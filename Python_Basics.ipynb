{
  "nbformat": 4,
  "nbformat_minor": 0,
  "metadata": {
    "colab": {
      "name": "Python Basics.ipynb",
      "provenance": [],
      "collapsed_sections": [],
      "include_colab_link": true
    },
    "kernelspec": {
      "name": "python3",
      "display_name": "Python 3"
    },
    "language_info": {
      "name": "python"
    }
  },
  "cells": [
    {
      "cell_type": "markdown",
      "metadata": {
        "id": "view-in-github",
        "colab_type": "text"
      },
      "source": [
        "<a href=\"https://colab.research.google.com/github/NSasiV/github-slideshow/blob/master/Python_Basics.ipynb\" target=\"_parent\"><img src=\"https://colab.research.google.com/assets/colab-badge.svg\" alt=\"Open In Colab\"/></a>"
      ]
    },
    {
      "cell_type": "code",
      "metadata": {
        "id": "YEvBCRMX6ttc"
      },
      "source": [
        "print(\"Hello World\")"
      ],
      "execution_count": null,
      "outputs": []
    },
    {
      "cell_type": "code",
      "metadata": {
        "id": "sgIFst4862Dx",
        "colab": {
          "base_uri": "https://localhost:8080/"
        },
        "outputId": "4e1a8deb-369f-44cb-9e99-b89d82144f1e"
      },
      "source": [
        "print(\"0----\")\n",
        "print(\" ||||\")"
      ],
      "execution_count": null,
      "outputs": [
        {
          "output_type": "stream",
          "text": [
            "0----\n",
            " ||||\n"
          ],
          "name": "stdout"
        }
      ]
    },
    {
      "cell_type": "code",
      "metadata": {
        "id": "CD8q9W417Bke",
        "colab": {
          "base_uri": "https://localhost:8080/"
        },
        "outputId": "7bf9bff1-1f77-4d2b-b582-0f0e78059d5b"
      },
      "source": [
        "print(\"sasi\")\n",
        "print('*' * 10)"
      ],
      "execution_count": null,
      "outputs": [
        {
          "output_type": "stream",
          "text": [
            "sasi\n",
            "**********\n"
          ],
          "name": "stdout"
        }
      ]
    },
    {
      "cell_type": "code",
      "metadata": {
        "colab": {
          "base_uri": "https://localhost:8080/"
        },
        "id": "_dm9onR6p_mD",
        "outputId": "af0c0b0d-adc7-4356-8a82-c5a5e6a78995"
      },
      "source": [
        "for i in range(5):\n",
        "    print(i)"
      ],
      "execution_count": null,
      "outputs": [
        {
          "output_type": "stream",
          "text": [
            "0\n",
            "1\n",
            "2\n",
            "3\n",
            "4\n"
          ],
          "name": "stdout"
        }
      ]
    },
    {
      "cell_type": "code",
      "metadata": {
        "colab": {
          "base_uri": "https://localhost:8080/"
        },
        "id": "qfO_MDkNqHaV",
        "outputId": "ee30c043-3c97-4623-b9ab-988d2af8e466"
      },
      "source": [
        "for i in range(1,10,2):\n",
        "    print(i,end=' ')"
      ],
      "execution_count": null,
      "outputs": [
        {
          "output_type": "stream",
          "text": [
            "1 3 5 7 9 "
          ],
          "name": "stdout"
        }
      ]
    },
    {
      "cell_type": "markdown",
      "metadata": {
        "id": "Elm7qSjV7SQF"
      },
      "source": [
        "Basic Data Types int, float, string and boolean"
      ]
    },
    {
      "cell_type": "code",
      "metadata": {
        "id": "WcQZIJe77Jqb"
      },
      "source": [
        "patient_name=\"John\"\n",
        "patient_age=20\n",
        "patient_new=True"
      ],
      "execution_count": null,
      "outputs": []
    },
    {
      "cell_type": "code",
      "metadata": {
        "colab": {
          "base_uri": "https://localhost:8080/"
        },
        "id": "zwIdN0rH7bm2",
        "outputId": "ba7b9df3-b7e4-49b5-8d4b-d1a6060497ac"
      },
      "source": [
        "name=input(\"What is your name? \")\n",
        "color=input('What is your fav color')\n",
        "print(name + \" likes \" + color)"
      ],
      "execution_count": null,
      "outputs": [
        {
          "output_type": "stream",
          "text": [
            "What is your name? D\n",
            "What is your fav colorblack\n",
            "D likes black\n"
          ],
          "name": "stdout"
        }
      ]
    },
    {
      "cell_type": "markdown",
      "metadata": {
        "id": "YkOlI3658gzn"
      },
      "source": [
        "String to Int"
      ]
    },
    {
      "cell_type": "code",
      "metadata": {
        "colab": {
          "base_uri": "https://localhost:8080/"
        },
        "id": "NDqyQgzD8jks",
        "outputId": "42470c07-2547-485b-f5e3-1c5edfd24450"
      },
      "source": [
        "birth_year=int(input(\"Enter year of birth: \"))\n",
        "age=2021-birth_year\n",
        "print(age)"
      ],
      "execution_count": null,
      "outputs": [
        {
          "output_type": "stream",
          "text": [
            "Enter year of birth: 1983\n",
            "38\n"
          ],
          "name": "stdout"
        }
      ]
    },
    {
      "cell_type": "markdown",
      "metadata": {
        "id": "ftrx8gYa9BrS"
      },
      "source": [
        "Type of Method"
      ]
    },
    {
      "cell_type": "code",
      "metadata": {
        "colab": {
          "base_uri": "https://localhost:8080/"
        },
        "id": "12pPm02m8_ZV",
        "outputId": "c056a0d1-b1b1-4535-85e0-d64f596c49b0"
      },
      "source": [
        "type(age)"
      ],
      "execution_count": null,
      "outputs": [
        {
          "output_type": "execute_result",
          "data": {
            "text/plain": [
              "int"
            ]
          },
          "metadata": {
            "tags": []
          },
          "execution_count": 3
        }
      ]
    },
    {
      "cell_type": "code",
      "metadata": {
        "colab": {
          "base_uri": "https://localhost:8080/"
        },
        "id": "PdikF1xkA3mZ",
        "outputId": "54be7721-aa21-43b9-9a90-ab216358f8d1"
      },
      "source": [
        "weight_lbs=int(input(\"Enter weight(lbs): \"))\n",
        "weight_kg=weight_lbs * 0.45\n",
        "print(weight_kg)"
      ],
      "execution_count": null,
      "outputs": [
        {
          "output_type": "stream",
          "text": [
            "Enter weight(lbs): 90\n",
            "40.5\n"
          ],
          "name": "stdout"
        }
      ]
    },
    {
      "cell_type": "markdown",
      "metadata": {
        "id": "REc2RTZ6BdOQ"
      },
      "source": [
        "string ' \""
      ]
    },
    {
      "cell_type": "code",
      "metadata": {
        "colab": {
          "base_uri": "https://localhost:8080/",
          "height": 35
        },
        "id": "u7p-3ubiBfus",
        "outputId": "a60ca76c-d2c6-4889-c626-15000c2131f3"
      },
      "source": [
        "msg=\"it's ok!!!\"\n",
        "msg"
      ],
      "execution_count": null,
      "outputs": [
        {
          "output_type": "execute_result",
          "data": {
            "application/vnd.google.colaboratory.intrinsic+json": {
              "type": "string"
            },
            "text/plain": [
              "\"it's ok!!!\""
            ]
          },
          "metadata": {
            "tags": []
          },
          "execution_count": 11
        }
      ]
    },
    {
      "cell_type": "markdown",
      "metadata": {
        "id": "WXTM6HVcB0uH"
      },
      "source": [
        "Multi line string '''"
      ]
    },
    {
      "cell_type": "code",
      "metadata": {
        "colab": {
          "base_uri": "https://localhost:8080/",
          "height": 35
        },
        "id": "NXEy7lMaBzgc",
        "outputId": "ca841c4c-1787-4587-c5bd-0f10d8538dd9"
      },
      "source": [
        "msg='''\n",
        "hi\n",
        "hello\n",
        "how are you?'''\n",
        "msg"
      ],
      "execution_count": null,
      "outputs": [
        {
          "output_type": "execute_result",
          "data": {
            "application/vnd.google.colaboratory.intrinsic+json": {
              "type": "string"
            },
            "text/plain": [
              "'\\nhi\\nhello\\nhow are you?'"
            ]
          },
          "metadata": {
            "tags": []
          },
          "execution_count": 7
        }
      ]
    },
    {
      "cell_type": "code",
      "metadata": {
        "colab": {
          "base_uri": "https://localhost:8080/"
        },
        "id": "TDoiuJQmBzih",
        "outputId": "7c8542b3-585d-4434-97c2-b79b60860c35"
      },
      "source": [
        "msg='Python program'\n",
        "print(msg[0:3])"
      ],
      "execution_count": null,
      "outputs": [
        {
          "output_type": "stream",
          "text": [
            "Pyt\n"
          ],
          "name": "stdout"
        }
      ]
    },
    {
      "cell_type": "code",
      "metadata": {
        "id": "vD4-yUtNC-li",
        "colab": {
          "base_uri": "https://localhost:8080/"
        },
        "outputId": "fb85d3be-1c2e-454f-d153-8a7029f6a8ce"
      },
      "source": [
        "print(msg[0:-1])"
      ],
      "execution_count": null,
      "outputs": [
        {
          "output_type": "stream",
          "text": [
            "Python progra\n"
          ],
          "name": "stdout"
        }
      ]
    },
    {
      "cell_type": "code",
      "metadata": {
        "colab": {
          "base_uri": "https://localhost:8080/"
        },
        "id": "OP35zz5uHJKl",
        "outputId": "cb3e0d68-ebc2-4214-c60f-64969ec3748d"
      },
      "source": [
        "print(msg[::-1])"
      ],
      "execution_count": null,
      "outputs": [
        {
          "output_type": "stream",
          "text": [
            "margorp nohtyP\n"
          ],
          "name": "stdout"
        }
      ]
    },
    {
      "cell_type": "markdown",
      "metadata": {
        "id": "T4BeN9zv70Mm"
      },
      "source": [
        "Formatted String prefix string with letter f and add place holders"
      ]
    },
    {
      "cell_type": "code",
      "metadata": {
        "colab": {
          "base_uri": "https://localhost:8080/"
        },
        "id": "UCSYNFcO7E8G",
        "outputId": "f5fe1a2f-6ad9-4fe6-da79-3fac6e555d61"
      },
      "source": [
        "first = 'sasi'\n",
        "last = 'N'\n",
        "msg=f'{first} . {last} is dangerous'\n",
        "print(msg)"
      ],
      "execution_count": null,
      "outputs": [
        {
          "output_type": "stream",
          "text": [
            "sasi . N is dangerous\n"
          ],
          "name": "stdout"
        }
      ]
    },
    {
      "cell_type": "markdown",
      "metadata": {
        "id": "l3KCDK9n8V1-"
      },
      "source": [
        "String Operations"
      ]
    },
    {
      "cell_type": "code",
      "metadata": {
        "colab": {
          "base_uri": "https://localhost:8080/"
        },
        "id": "kozgWk3I8YaT",
        "outputId": "fa18404c-ef94-487a-efe3-b4ae665ecf88"
      },
      "source": [
        "course='Python for beginners'\n",
        "print(len(course))\n",
        "print(course.upper())\n",
        "print(course)\n",
        "print(course.lower())\n",
        "print(course.find('P'))\n",
        "print(course.find('O'))\n",
        "print(course.find('o'))\n",
        "print(course.find('beginners'))\n",
        "print(course.replace('beginners','absolute beginners'))\n",
        "print('Python' in course)\n",
        "print(course.title())"
      ],
      "execution_count": null,
      "outputs": [
        {
          "output_type": "stream",
          "text": [
            "20\n",
            "PYTHON FOR BEGINNERS\n",
            "Python for beginners\n",
            "python for beginners\n",
            "0\n",
            "-1\n",
            "4\n",
            "11\n",
            "Python for absolute beginners\n",
            "True\n",
            "Python For Beginners\n"
          ],
          "name": "stdout"
        }
      ]
    },
    {
      "cell_type": "markdown",
      "metadata": {
        "id": "oVyUUI1X2w4s"
      },
      "source": [
        "Arithmetic Operator "
      ]
    },
    {
      "cell_type": "code",
      "metadata": {
        "id": "517hljv_4Sge",
        "colab": {
          "base_uri": "https://localhost:8080/"
        },
        "outputId": "82b76a03-12d4-44d5-96f4-328292ba25ce"
      },
      "source": [
        "# Examples of Arithmetic Operator\n",
        "a = 9\n",
        "b = 4\n",
        "\n",
        "# Addition of numbers\n",
        "add = a + b\n",
        "\n",
        "# Subtraction of numbers\n",
        "sub = a - b\n",
        "\n",
        "# Multiplication of number\n",
        "mul = a * b\n",
        "\n",
        "# Division(float) of number\n",
        "div1 = a / b\n",
        "\n",
        "# Division(floor) of number\n",
        "div2 = a // b\n",
        "\n",
        "# Modulo of both number\n",
        "mod = a % b\n",
        "\n",
        "# Power\n",
        "p = a ** b\n",
        "\n",
        "# print results\n",
        "print(add)\n",
        "print(sub)\n",
        "print(mul)\n",
        "print(div1)\n",
        "print(div2)\n",
        "print(mod)\n",
        "print(p)\n"
      ],
      "execution_count": null,
      "outputs": [
        {
          "output_type": "stream",
          "text": [
            "13\n",
            "5\n",
            "36\n",
            "2.25\n",
            "2\n",
            "1\n",
            "6561\n"
          ],
          "name": "stdout"
        }
      ]
    },
    {
      "cell_type": "markdown",
      "metadata": {
        "id": "r1OmPGvv3No7"
      },
      "source": [
        "Relational Operators"
      ]
    },
    {
      "cell_type": "code",
      "metadata": {
        "id": "E_tg0m3J3Oa7",
        "colab": {
          "base_uri": "https://localhost:8080/"
        },
        "outputId": "fbef6a8d-8e9d-4bf5-c95f-361ad41c7cd1"
      },
      "source": [
        "# Examples of Relational Operators\n",
        "a = 13\n",
        "b = 33\n",
        "\n",
        "# a > b is False\n",
        "print(a > b)\n",
        "\n",
        "# a < b is True\n",
        "print(a < b)\n",
        "\n",
        "# a == b is False\n",
        "print(a == b)\n",
        "\n",
        "# a != b is True\n",
        "print(a != b)\n",
        "\n",
        "# a >= b is False\n",
        "print(a >= b)\n",
        "\n",
        "# a <= b is True\n",
        "print(a <= b)\n"
      ],
      "execution_count": null,
      "outputs": [
        {
          "output_type": "stream",
          "text": [
            "False\n",
            "True\n",
            "False\n",
            "True\n",
            "False\n",
            "True\n"
          ],
          "name": "stdout"
        }
      ]
    },
    {
      "cell_type": "markdown",
      "metadata": {
        "id": "OraM0oGl3Rrm"
      },
      "source": [
        "Logical operators"
      ]
    },
    {
      "cell_type": "code",
      "metadata": {
        "id": "85qqL2to3WOi",
        "colab": {
          "base_uri": "https://localhost:8080/"
        },
        "outputId": "3639cb09-ef7a-4a06-9b42-497e4dbdfd36"
      },
      "source": [
        "# Examples of Logical Operator\n",
        "a = True\n",
        "b = False\n",
        "\n",
        "# Print a and b is False\n",
        "print(a and b)\n",
        "\n",
        "# Print a or b is True\n",
        "print(a or b)\n",
        "\n",
        "# Print not a is False\n",
        "print(not a)\n",
        "\n",
        "print(a and not b)"
      ],
      "execution_count": null,
      "outputs": [
        {
          "output_type": "stream",
          "text": [
            "False\n",
            "True\n",
            "False\n",
            "True\n"
          ],
          "name": "stdout"
        }
      ]
    },
    {
      "cell_type": "markdown",
      "metadata": {
        "id": "VPOFC3ur3bR1"
      },
      "source": [
        "Bitwise operators"
      ]
    },
    {
      "cell_type": "code",
      "metadata": {
        "id": "IUqvkdBN3cAL",
        "colab": {
          "base_uri": "https://localhost:8080/"
        },
        "outputId": "bcca0e51-7f65-4845-cf63-5d5a5eb00c91"
      },
      "source": [
        "# Examples of Bitwise operators\n",
        "a = 10\n",
        "b = 4\n",
        "\n",
        "# Print bitwise AND operation\n",
        "print(a & b)\n",
        "\n",
        "# Print bitwise OR operation\n",
        "print(a | b)\n",
        "\n",
        "# Print bitwise NOT operation\n",
        "print(~a)\n",
        "\n",
        "# print bitwise XOR operation\n",
        "print(a ^ b)\n",
        "\n",
        "# print bitwise right shift operation\n",
        "print(a >> 2)\n",
        "\n",
        "# print bitwise left shift operation\n",
        "print(a << 2)\n"
      ],
      "execution_count": null,
      "outputs": [
        {
          "output_type": "stream",
          "text": [
            "0\n",
            "14\n",
            "-11\n",
            "14\n",
            "2\n",
            "40\n"
          ],
          "name": "stdout"
        }
      ]
    },
    {
      "cell_type": "markdown",
      "metadata": {
        "id": "FywQ_Xd13eNB"
      },
      "source": [
        "Assignment operators\n",
        "\n"
      ]
    },
    {
      "cell_type": "markdown",
      "metadata": {
        "id": "OzToWeDk4fCP"
      },
      "source": [
        "Identity operators"
      ]
    },
    {
      "cell_type": "code",
      "metadata": {
        "id": "5V96QBgQ4feU",
        "colab": {
          "base_uri": "https://localhost:8080/"
        },
        "outputId": "6f84eba4-6568-46e5-ca4a-f016444fed8e"
      },
      "source": [
        "# Examples of Identity operators\n",
        "a1 = 3\n",
        "b1 = 3\n",
        "a2 = 'GeeksforGeeks'\n",
        "b2 = 'GeeksforGeeks'\n",
        "a3 = [1,2,3]\n",
        "b3 = [1,2,3]\n",
        "\n",
        "\n",
        "print(a1 is not b1)\n",
        "\n",
        "\n",
        "print(a2 is b2)\n",
        "\n",
        "# Output is False, since lists are mutable.\n",
        "print(a3 is b3)\n"
      ],
      "execution_count": null,
      "outputs": [
        {
          "output_type": "stream",
          "text": [
            "False\n",
            "True\n",
            "False\n"
          ],
          "name": "stdout"
        }
      ]
    },
    {
      "cell_type": "markdown",
      "metadata": {
        "id": "PcfhFqld4fr7"
      },
      "source": [
        "Membership operators"
      ]
    },
    {
      "cell_type": "code",
      "metadata": {
        "id": "LJIn6V8k4f3O",
        "colab": {
          "base_uri": "https://localhost:8080/"
        },
        "outputId": "2252b3c5-19a1-4128-8010-1bdf76041fb9"
      },
      "source": [
        "# Examples of Membership operator\n",
        "x = 'Geeks for Geeks'\n",
        "y = {3:'a',4:'b'}\n",
        "\n",
        "\n",
        "print('G' in x)\n",
        "\n",
        "print('geeks' not in x)\n",
        "\n",
        "print('Geeks' not in x)\n",
        "\n",
        "print(3 in y)\n",
        "\n",
        "print('b' in y)\n"
      ],
      "execution_count": null,
      "outputs": [
        {
          "output_type": "stream",
          "text": [
            "True\n",
            "True\n",
            "False\n",
            "True\n",
            "False\n"
          ],
          "name": "stdout"
        }
      ]
    },
    {
      "cell_type": "markdown",
      "metadata": {
        "id": "V2Nm95Ld4gb1"
      },
      "source": [
        "Operator Precedence"
      ]
    },
    {
      "cell_type": "code",
      "metadata": {
        "id": "XkjtxUPp41EF",
        "colab": {
          "base_uri": "https://localhost:8080/"
        },
        "outputId": "32cab04e-e665-41c0-d2a0-978639451d62"
      },
      "source": [
        "# Examples of Operator Precedence\n",
        "\n",
        "# Precedence of '+' & '*'\n",
        "expr = 10 + 20 * 30\n",
        "print(expr)\n",
        "\n",
        "# Precedence of 'or' & 'and'\n",
        "name = \"Alex\"\n",
        "age = 0\n",
        "\t\n",
        "if name == \"Alex\" or name == \"John\" and age >= 2 :\n",
        "\tprint(\"Hello! Welcome.\")\n",
        "else :\n",
        "\tprint(\"Good Bye!!\")\n"
      ],
      "execution_count": null,
      "outputs": [
        {
          "output_type": "stream",
          "text": [
            "610\n",
            "Good Bye!!\n"
          ],
          "name": "stdout"
        }
      ]
    },
    {
      "cell_type": "markdown",
      "metadata": {
        "id": "BHtabbBu42oe"
      },
      "source": [
        "Operator Associativity"
      ]
    },
    {
      "cell_type": "code",
      "metadata": {
        "id": "HiA-2fs545Cn"
      },
      "source": [
        "# Examples of Operator Associativity\n",
        "\n",
        "# Left-right associativity\n",
        "# 100 / 10 * 10 is calculated as\n",
        "# (100 / 10) * 10 and not\n",
        "# as 100 / (10 * 10)\n",
        "print(100 / 10 * 10)\n",
        "\t\n",
        "# Left-right associativity\n",
        "# 5 - 2 + 3 is calculated as\n",
        "# (5 - 2) + 3 and not\n",
        "# as 5 - (2 + 3)\n",
        "print(5 - 2 + 3)\n",
        "\t\n",
        "# left-right associativity\n",
        "print(5 - (2 + 3))\n",
        "\t\n",
        "# right-left associativity\n",
        "# 2 ** 3 ** 2 is calculated as\n",
        "# 2 ** (3 ** 2) and not\n",
        "# as (2 ** 3) ** 2\n",
        "print(2 ** 3 ** 2)\n"
      ],
      "execution_count": null,
      "outputs": []
    },
    {
      "cell_type": "markdown",
      "metadata": {
        "id": "FA7r_lNL48yF"
      },
      "source": [
        "![PythonOprtr.PNG](data:image/png;base64,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)"
      ]
    },
    {
      "cell_type": "markdown",
      "metadata": {
        "id": "UaizmXKB5fXd"
      },
      "source": [
        "Python 3 math module\n",
        "\n",
        "https://docs.python.org/3/library/math.html"
      ]
    },
    {
      "cell_type": "markdown",
      "metadata": {
        "id": "Awc_Fk9f7fRT"
      },
      "source": [
        "Constants provided by the math module are – \n",
        "\n",
        "Euler’s Number\n",
        "Pi\n",
        "Tau\n",
        "Infinity\n",
        "Not a Number (NaN)"
      ]
    },
    {
      "cell_type": "code",
      "metadata": {
        "id": "_td0lBig5aRN",
        "colab": {
          "base_uri": "https://localhost:8080/"
        },
        "outputId": "9e7f3e37-7fc3-4570-9875-ef2d0bb9f56f"
      },
      "source": [
        "# Import math Library\n",
        "import math\n",
        "\n",
        "# Print the value of Euler e\n",
        "print (math.e)\n"
      ],
      "execution_count": null,
      "outputs": [
        {
          "output_type": "stream",
          "text": [
            "2.718281828459045\n"
          ],
          "name": "stdout"
        }
      ]
    },
    {
      "cell_type": "code",
      "metadata": {
        "id": "8P-l7Z007iCT",
        "colab": {
          "base_uri": "https://localhost:8080/"
        },
        "outputId": "30cd8218-8837-4db8-cb0b-5aaf2f5407f4"
      },
      "source": [
        "# Import math Library\n",
        "import math\n",
        "\n",
        "# Print the value of pi\n",
        "print (math.pi)\n"
      ],
      "execution_count": null,
      "outputs": [
        {
          "output_type": "stream",
          "text": [
            "3.141592653589793\n"
          ],
          "name": "stdout"
        }
      ]
    },
    {
      "cell_type": "code",
      "metadata": {
        "id": "dkzYj_a_7mTW"
      },
      "source": [
        "# Import math Library\n",
        "import math\n",
        "\n",
        "# radius of the circle\n",
        "r = 4\n",
        "\n",
        "# value of pie\n",
        "pie = math.pi\n",
        "\n",
        "# area of the circle\n",
        "print(pie * r * r)\n"
      ],
      "execution_count": null,
      "outputs": []
    },
    {
      "cell_type": "code",
      "metadata": {
        "id": "V7MWasCp7nmc"
      },
      "source": [
        "# Import math Library\n",
        "import math\n",
        "\n",
        "# Print the value of tau\n",
        "print (math.tau)\n"
      ],
      "execution_count": null,
      "outputs": []
    },
    {
      "cell_type": "code",
      "metadata": {
        "id": "YWmZrHRm7pHO"
      },
      "source": [
        "# Import math Library\n",
        "import math\n",
        "\n",
        "# Print the positive infinity\n",
        "print (math.inf)\n",
        "\n",
        "# Print the negative infinity\n",
        "print (-math.inf)\n"
      ],
      "execution_count": null,
      "outputs": []
    },
    {
      "cell_type": "code",
      "metadata": {
        "id": "BruZyeNf7riQ"
      },
      "source": [
        "# Import math Library\n",
        "import math\n",
        "\n",
        "# Print the value of nan\n",
        "print (math.nan)\n"
      ],
      "execution_count": null,
      "outputs": []
    },
    {
      "cell_type": "code",
      "metadata": {
        "id": "5dRjxWIl7t0M",
        "colab": {
          "base_uri": "https://localhost:8080/"
        },
        "outputId": "7298113d-df28-4280-f11c-5ae9d173cc4d"
      },
      "source": [
        "# Python code to demonstrate the working of\n",
        "# ceil() and floor()\n",
        "\n",
        "# importing \"math\" for mathematical operations\n",
        "import math\n",
        "\n",
        "a = 2.3\n",
        "\n",
        "# returning the ceil of 2.3\n",
        "print (\"The ceil of 2.3 is : \", end=\"\")\n",
        "print (math.ceil(a))\n",
        "\n",
        "# returning the floor of 2.3\n",
        "print (\"The floor of 2.3 is : \", end=\"\")\n",
        "print (math.floor(a))\n"
      ],
      "execution_count": null,
      "outputs": [
        {
          "output_type": "stream",
          "text": [
            "The ceil of 2.3 is : 3\n",
            "The floor of 2.3 is : 2\n"
          ],
          "name": "stdout"
        }
      ]
    },
    {
      "cell_type": "code",
      "metadata": {
        "id": "hOafx8T47wCM",
        "colab": {
          "base_uri": "https://localhost:8080/"
        },
        "outputId": "848af2c1-4e0b-4833-b2c3-47fc48a89be4"
      },
      "source": [
        "# Python code to demonstrate the working of\n",
        "# factorial()\n",
        "\n",
        "# importing \"math\" for mathematical operations\n",
        "import math\n",
        "\n",
        "a = 5\n",
        "\n",
        "# returning the factorial of 5\n",
        "print(\"The factorial of 5 is : \", end=\"\")\n",
        "print(math.factorial(a))\n"
      ],
      "execution_count": null,
      "outputs": [
        {
          "output_type": "stream",
          "text": [
            "The factorial of 5 is : 120\n"
          ],
          "name": "stdout"
        }
      ]
    },
    {
      "cell_type": "code",
      "metadata": {
        "id": "KzI3DOv27yt2"
      },
      "source": [
        "# Python code to demonstrate the working of\n",
        "# gcd()\n",
        "\n",
        "# importing \"math\" for mathematical operations\n",
        "import math\n",
        "\n",
        "a = 15\n",
        "b = 5\n",
        "\n",
        "# returning the gcd of 15 and 5\n",
        "print (\"The gcd of 5 and 15 is : \", end=\"\")\n",
        "print (math.gcd(b, a))\n"
      ],
      "execution_count": null,
      "outputs": []
    },
    {
      "cell_type": "code",
      "metadata": {
        "id": "HsIS5w_v70hJ",
        "colab": {
          "base_uri": "https://localhost:8080/"
        },
        "outputId": "f747e0f0-f471-4e2a-ecc9-9f8a36fb6358"
      },
      "source": [
        "# Python code to demonstrate the working of\n",
        "# fabs()\n",
        "\n",
        "# importing \"math\" for mathematical operations\n",
        "import math\n",
        "\n",
        "a = -10\n",
        "\n",
        "# returning the absolute value.\n",
        "print (\"The absolute value of -10 is : \", end=\"\")\n",
        "print (math.fabs(a))\n"
      ],
      "execution_count": null,
      "outputs": [
        {
          "output_type": "stream",
          "text": [
            "The absolute value of -10 is : 10.0\n"
          ],
          "name": "stdout"
        }
      ]
    },
    {
      "cell_type": "code",
      "metadata": {
        "id": "7qx8YH1172cb",
        "colab": {
          "base_uri": "https://localhost:8080/"
        },
        "outputId": "cdb5b8f3-007f-4be2-b36f-b9dd8e7a5ada"
      },
      "source": [
        "# Python3 code to demonstrate\n",
        "# the working of exp()\n",
        "import math\n",
        "\n",
        "# initializing the value\n",
        "test_int = 4\n",
        "test_neg_int = -3\n",
        "test_float = 0.00\n",
        "\n",
        "# checking exp() values\n",
        "# with different numbers\n",
        "print (math.exp(test_int))\n",
        "print (math.exp(test_neg_int))\n",
        "print (math.exp(test_float))\n"
      ],
      "execution_count": null,
      "outputs": [
        {
          "output_type": "stream",
          "text": [
            "54.598150033144236\n",
            "0.049787068367863944\n",
            "1.0\n"
          ],
          "name": "stdout"
        }
      ]
    },
    {
      "cell_type": "code",
      "metadata": {
        "id": "8Ofp2dHc74Ec",
        "colab": {
          "base_uri": "https://localhost:8080/"
        },
        "outputId": "9bb154ff-735a-484a-d393-ebb653d5d45c"
      },
      "source": [
        "# Python code to demonstrate pow()\n",
        "# version 1\n",
        "\n",
        "print (\"The value of 3**4 is : \",end=\"\")\n",
        "\n",
        "# Returns 81\n",
        "print (pow(3,4))\n"
      ],
      "execution_count": null,
      "outputs": [
        {
          "output_type": "stream",
          "text": [
            "The value of 3**4 is : 81\n"
          ],
          "name": "stdout"
        }
      ]
    },
    {
      "cell_type": "code",
      "metadata": {
        "id": "TTuSurvT758X"
      },
      "source": [
        "# Python code to demonstrate the working of\n",
        "# logarithm\n",
        "\n",
        "# importing \"math\" for mathematical operations\n",
        "import math\n",
        "\n",
        "\n",
        "# returning the log of 2,3\n",
        "print (\"The value of log 2 with base 3 is : \", end=\"\")\n",
        "print (math.log(2,3))\n",
        "\n",
        "# returning the log2 of 16\n",
        "print (\"The value of log2 of 16 is : \", end=\"\")\n",
        "print (math.log2(16))\n",
        "\t\n",
        "# returning the log10 of 10000\n",
        "print (\"The value of log10 of 10000 is : \", end=\"\")\n",
        "print (math.log10(10000))\n"
      ],
      "execution_count": null,
      "outputs": []
    },
    {
      "cell_type": "code",
      "metadata": {
        "id": "9kJWLCQf79AF"
      },
      "source": [
        "# Python3 program to demonstrate the\n",
        "# sqrt() method\n",
        "\n",
        "# import the math module\n",
        "import math\n",
        "\n",
        "# print the square root of 0\n",
        "print(math.sqrt(0))\n",
        "\n",
        "# print the square root of 4\n",
        "print(math.sqrt(4))\n",
        "\n",
        "# print the square root of 3.5\n",
        "print(math.sqrt(3.5))\n"
      ],
      "execution_count": null,
      "outputs": []
    },
    {
      "cell_type": "code",
      "metadata": {
        "id": "ZWP6E-Cb79jx"
      },
      "source": [
        "# Python code to demonstrate the working of\n",
        "# sin(), cos(), and tan()\n",
        "\n",
        "# importing \"math\" for mathematical operations\n",
        "import math\n",
        "\n",
        "a = math.pi/6\n",
        "\n",
        "# returning the value of sine of pi/6\n",
        "print (\"The value of sine of pi/6 is : \", end=\"\")\n",
        "print (math.sin(a))\n",
        "\n",
        "# returning the value of cosine of pi/6\n",
        "print (\"The value of cosine of pi/6 is : \", end=\"\")\n",
        "print (math.cos(a))\n",
        "\n",
        "# returning the value of tangent of pi/6\n",
        "print (\"The value of tangent of pi/6 is : \", end=\"\")\n",
        "print (math.tan(a))\n"
      ],
      "execution_count": null,
      "outputs": []
    },
    {
      "cell_type": "code",
      "metadata": {
        "id": "LCxwbYew8B-r"
      },
      "source": [
        "# Python code to demonstrate the working of\n",
        "# degrees() and radians()\n",
        "\n",
        "# importing \"math\" for mathematical operations\n",
        "import math\n",
        "\n",
        "a = math.pi/6\n",
        "b = 30\n",
        "\n",
        "# returning the converted value from radians to degrees\n",
        "print (\"The converted value from radians to degrees is : \", end=\"\")\n",
        "print (math.degrees(a))\n",
        "\n",
        "# returning the converted value from degrees to radians\n",
        "print (\"The converted value from degrees to radians is : \", end=\"\")\n",
        "print (math.radians(b))\n"
      ],
      "execution_count": null,
      "outputs": []
    },
    {
      "cell_type": "markdown",
      "metadata": {
        "id": "erPiLBJ38xFa"
      },
      "source": [
        "Decision making statements available in python are:\n",
        "\n",
        "if statement\n",
        "\n",
        "if..else statements\n",
        "\n",
        "nested if statements\n",
        "\n",
        "if-elif ladder\n",
        "\n",
        "Short Hand if statement\n",
        "\n",
        "Short Hand if-else statement"
      ]
    },
    {
      "cell_type": "code",
      "metadata": {
        "id": "hBMbr5qI8-UT",
        "colab": {
          "base_uri": "https://localhost:8080/"
        },
        "outputId": "4c4f7dc0-4b74-4805-fc06-95de19b7313b"
      },
      "source": [
        "# python program to illustrate If statement\n",
        "\n",
        "i = 10\n",
        "if (i > 15):\n",
        "    print (\"10 is less than 15\")\n",
        "print (\"I am Not in if\")\n"
      ],
      "execution_count": null,
      "outputs": [
        {
          "output_type": "stream",
          "text": [
            "I am Not in if\n"
          ],
          "name": "stdout"
        }
      ]
    },
    {
      "cell_type": "code",
      "metadata": {
        "id": "tJq49LF_9BTK",
        "colab": {
          "base_uri": "https://localhost:8080/"
        },
        "outputId": "756caa6f-58c9-49b5-977d-279f19f9b43a"
      },
      "source": [
        "# python program to illustrate If else statement\n",
        "#!/usr/bin/python\n",
        "\n",
        "i = 20;\n",
        "if (i < 15):\n",
        "\tprint (\"i is smaller than 15\")\n",
        "\tprint (\"i'm in if Block\")\n",
        "else:\n",
        "\tprint (\"i is greater than 15\")\n",
        "\tprint (\"i'm in else Block\")\n",
        "print (\"i'm not in if and not in else Block\")\n"
      ],
      "execution_count": null,
      "outputs": [
        {
          "output_type": "stream",
          "text": [
            "i is greater than 15\n",
            "i'm in else Block\n",
            "i'm not in if and not in else Block\n"
          ],
          "name": "stdout"
        }
      ]
    },
    {
      "cell_type": "code",
      "metadata": {
        "id": "PXpfxG8G9DJg",
        "colab": {
          "base_uri": "https://localhost:8080/"
        },
        "outputId": "efc3cc78-fe99-4a69-91e7-a6b1844de60a"
      },
      "source": [
        "# python program to illustrate nested If statement\n",
        "#!/usr/bin/python\n",
        "i = 10\n",
        "if (i == 10):\n",
        "\t# First if statement\n",
        "\tif (i < 15):\n",
        "\t\tprint (\"i is smaller than 15\")\n",
        "\t# Nested - if statement\n",
        "\t# Will only be executed if statement above\n",
        "\t# it is true\n",
        "\tif (i < 12):\n",
        "\t\tprint (\"i is smaller than 12 too\")\n",
        "\telse:\n",
        "\t\tprint (\"i is greater than 15\")\n"
      ],
      "execution_count": null,
      "outputs": [
        {
          "output_type": "stream",
          "text": [
            "i is smaller than 15\n",
            "i is smaller than 12 too\n"
          ],
          "name": "stdout"
        }
      ]
    },
    {
      "cell_type": "code",
      "metadata": {
        "id": "ZTgSPf6T9FFE",
        "colab": {
          "base_uri": "https://localhost:8080/"
        },
        "outputId": "f404e8e3-fa31-465d-b170-756c633c129d"
      },
      "source": [
        "# Python program to illustrate if-elif-else ladder\n",
        "#!/usr/bin/python\n",
        "\n",
        "i = 20\n",
        "if (i == 10):\n",
        "\tprint (\"i is 10\")\n",
        "elif (i == 15):\n",
        "\tprint (\"i is 15\")\n",
        "elif (i == 20):\n",
        "\tprint (\"i is 20\")\n",
        "else:\n",
        "\tprint (\"i is not present\")\n"
      ],
      "execution_count": null,
      "outputs": [
        {
          "output_type": "stream",
          "text": [
            "i is 20\n"
          ],
          "name": "stdout"
        }
      ]
    },
    {
      "cell_type": "code",
      "metadata": {
        "id": "LuAwtDzV9G7r"
      },
      "source": [
        "# Python program to illustrate short hand if\n",
        "i = 10\n",
        "if i < 15: print(\"i is less than 15\")\n"
      ],
      "execution_count": null,
      "outputs": []
    },
    {
      "cell_type": "code",
      "metadata": {
        "id": "rXBzXs_19ItN"
      },
      "source": [
        "# Python program to illustrate short hand if-else\n",
        "i = 10\n",
        "print(True) if i < 15 else print(False)\n"
      ],
      "execution_count": null,
      "outputs": []
    },
    {
      "cell_type": "markdown",
      "metadata": {
        "id": "jLgTTeGn-op2"
      },
      "source": [
        "loops in python\n"
      ]
    },
    {
      "cell_type": "code",
      "metadata": {
        "id": "MnpI6YGw-tci",
        "colab": {
          "base_uri": "https://localhost:8080/"
        },
        "outputId": "b238738f-334f-47bb-f6a5-29ae4c88dc2e"
      },
      "source": [
        "# Python program to illustrate\n",
        "# while loop\n",
        "count = 0\n",
        "while (count < 3):\n",
        "\tcount = count + 1\n",
        "\tprint(\"Hello Geek\")\n"
      ],
      "execution_count": null,
      "outputs": [
        {
          "output_type": "stream",
          "text": [
            "Hello Geek\n",
            "Hello Geek\n",
            "Hello Geek\n"
          ],
          "name": "stdout"
        }
      ]
    },
    {
      "cell_type": "code",
      "metadata": {
        "colab": {
          "base_uri": "https://localhost:8080/"
        },
        "id": "AHYNGjrP-uQy",
        "outputId": "d707415c-9c35-48aa-d3ef-820c93d8f720"
      },
      "source": [
        "#Python program to illustrate\n",
        "# combining else with while\n",
        "count = 0\n",
        "while (count < 3):\n",
        "\tcount = count + 1\n",
        "\tprint(\"Hello Geek\")\n",
        "else:\n",
        "\tprint(\"In Else Block\")\n"
      ],
      "execution_count": null,
      "outputs": [
        {
          "output_type": "stream",
          "text": [
            "Hello Geek\n",
            "Hello Geek\n",
            "Hello Geek\n",
            "In Else Block\n"
          ],
          "name": "stdout"
        }
      ]
    },
    {
      "cell_type": "code",
      "metadata": {
        "id": "pN0al1tV_ApV"
      },
      "source": [
        "# Python program to illustrate\n",
        "# Single statement while block\n",
        "count = 0\n",
        "while (count == 0): print(\"Hello Geek\")\n"
      ],
      "execution_count": null,
      "outputs": []
    },
    {
      "cell_type": "code",
      "metadata": {
        "id": "JEuFCs6j_GSX",
        "colab": {
          "base_uri": "https://localhost:8080/"
        },
        "outputId": "90a4f104-cf5f-4a56-8b99-35a60b5478dd"
      },
      "source": [
        "# Python program to illustrate\n",
        "# Iterating over range 0 to n-1\n",
        "\n",
        "n = 4\n",
        "for i in range(0, n):\n",
        "\tprint(i)\n"
      ],
      "execution_count": null,
      "outputs": [
        {
          "output_type": "stream",
          "text": [
            "1\n",
            "2\n",
            "3\n"
          ],
          "name": "stdout"
        }
      ]
    },
    {
      "cell_type": "code",
      "metadata": {
        "id": "bAqe4Ilr_JOZ",
        "colab": {
          "base_uri": "https://localhost:8080/"
        },
        "outputId": "9bc60f53-9415-4c12-fbe0-4e2e910cb8ed"
      },
      "source": [
        "# Python program to illustrate\n",
        "# Iterating over a list\n",
        "print(\"List Iteration\")\n",
        "l = [\"geeks\", \"for\", \"geeks\"]\n",
        "for i in l:\n",
        "\tprint(i)\n",
        "\t\n",
        "# Iterating over a tuple (immutable)\n",
        "print(\"\\nTuple Iteration\")\n",
        "t = (\"geeks\", \"for\", \"geeks\")\n",
        "for i in t:\n",
        "\tprint(i)\n",
        "\t\n",
        "# Iterating over a String\n",
        "print(\"\\nString Iteration\")\n",
        "s = \"Geeks\"\n",
        "for i in s :\n",
        "\tprint(i)\n",
        "\t\n",
        "# Iterating over dictionary\n",
        "print(\"\\nDictionary Iteration\")\n",
        "d = dict()\n",
        "d['xyz'] = 123\n",
        "d['abc'] = 345\n",
        "for i in d :\n",
        "\tprint(\"%s %d\" %(i, d[i]))\n"
      ],
      "execution_count": null,
      "outputs": [
        {
          "output_type": "stream",
          "text": [
            "List Iteration\n",
            "geeks\n",
            "for\n",
            "geeks\n",
            "\n",
            "Tuple Iteration\n",
            "geeks\n",
            "for\n",
            "geeks\n",
            "\n",
            "String Iteration\n",
            "G\n",
            "e\n",
            "e\n",
            "k\n",
            "s\n",
            "\n",
            "Dictionary Iteration\n",
            "xyz 123\n",
            "abc 345\n"
          ],
          "name": "stdout"
        }
      ]
    },
    {
      "cell_type": "code",
      "metadata": {
        "id": "iusnCoen_WHD",
        "colab": {
          "base_uri": "https://localhost:8080/"
        },
        "outputId": "94645ee4-966b-4647-c9b3-5103366a6651"
      },
      "source": [
        "# Python program to illustrate\n",
        "# Iterating by index\n",
        "\n",
        "list = [\"geeks\", \"for\", \"geeks\"]\n",
        "for index in range(len(list)):\n",
        "\tprint (list[index])\n"
      ],
      "execution_count": null,
      "outputs": [
        {
          "output_type": "stream",
          "text": [
            "geeks\n",
            "for\n",
            "geeks\n"
          ],
          "name": "stdout"
        }
      ]
    },
    {
      "cell_type": "code",
      "metadata": {
        "id": "EWcjMWeA_Zej"
      },
      "source": [
        "# Python program to illustrate\n",
        "# combining else with for\n",
        "\n",
        "list = [\"geeks\", \"for\", \"geeks\"]\n",
        "for index in range(len(list)):\n",
        "\tprint list[index]\n",
        "else:\n",
        "\tprint \"Inside Else Block\"\n"
      ],
      "execution_count": null,
      "outputs": []
    },
    {
      "cell_type": "code",
      "metadata": {
        "id": "nzGmCbo7_ea8",
        "colab": {
          "base_uri": "https://localhost:8080/"
        },
        "outputId": "f8a7a34c-e402-4541-8cb5-13fbf797997a"
      },
      "source": [
        "# Python program to illustrate\n",
        "# nested for loops in Python\n",
        "from __future__ import print_function\n",
        "for i in range(1, 5):\n",
        "\tfor j in range(i):\n",
        "\t\tprint(i, end=' ')\n",
        "\tprint()\n"
      ],
      "execution_count": null,
      "outputs": [
        {
          "output_type": "stream",
          "text": [
            "1 \n",
            "2 2 \n",
            "3 3 3 \n",
            "4 4 4 4 \n"
          ],
          "name": "stdout"
        }
      ]
    },
    {
      "cell_type": "code",
      "metadata": {
        "id": "OFtafkGF_jho",
        "colab": {
          "base_uri": "https://localhost:8080/"
        },
        "outputId": "ef333c1b-88fe-46df-d588-76930a49aa6e"
      },
      "source": [
        "# Prints all letters except 'e' and 's'\n",
        "for letter in 'geeksforgeeks':\n",
        "\tif letter == 'e' or letter == 's':\n",
        "\t\tcontinue\n",
        "\tprint ('Current Letter :', letter)\n",
        "\tvar = 10\n"
      ],
      "execution_count": null,
      "outputs": [
        {
          "output_type": "stream",
          "text": [
            "Current Letter : g\n"
          ],
          "name": "stdout"
        }
      ]
    },
    {
      "cell_type": "code",
      "metadata": {
        "id": "GCq7pUbJ_mBc"
      },
      "source": [
        "for letter in 'geeksforgeeks':\n",
        "\n",
        "\t# break the loop as soon it sees 'e'\n",
        "\t# or 's'\n",
        "\tif letter == 'e' or letter == 's':\n",
        "\t\tbreak\n",
        "\n",
        "print 'Current Letter :', letter\n"
      ],
      "execution_count": null,
      "outputs": []
    },
    {
      "cell_type": "code",
      "metadata": {
        "id": "sXN30HpQ_oPZ",
        "colab": {
          "base_uri": "https://localhost:8080/"
        },
        "outputId": "a7fb01bd-864a-4033-b244-e2e257d96af2"
      },
      "source": [
        "# An empty loop\n",
        "for letter in 'geeksforgeeks':\n",
        "\tpass\n",
        "print ('Last Letter :', letter)\n"
      ],
      "execution_count": null,
      "outputs": [
        {
          "output_type": "stream",
          "text": [
            "Last Letter : s\n"
          ],
          "name": "stdout"
        }
      ]
    },
    {
      "cell_type": "code",
      "metadata": {
        "id": "FN7YdY_D_seQ",
        "colab": {
          "base_uri": "https://localhost:8080/"
        },
        "outputId": "5c5c7a78-d433-4752-d127-1f51059ed7db"
      },
      "source": [
        "fruits = [\"apple\", \"orange\", \"kiwi\"]\n",
        "\n",
        "# Creating an iterator object\n",
        "# from that iterable i.e fruits\n",
        "iter_obj = iter(fruits)\n",
        "\n",
        "# Infinite while loop\n",
        "while True:\n",
        "    try:\n",
        "\t\n",
        "\t# getting the next item\n",
        "    \tfruit = next(iter_obj)\n",
        "    \tprint(fruit)\n",
        "    except StopIteration:\n",
        "\t\t\n",
        "\t# if StopIteration is raised,\n",
        "\t# break from loop\n",
        "\t    break\n"
      ],
      "execution_count": null,
      "outputs": [
        {
          "output_type": "stream",
          "text": [
            "apple\n",
            "orange\n",
            "kiwi\n"
          ],
          "name": "stdout"
        }
      ]
    },
    {
      "cell_type": "markdown",
      "metadata": {
        "id": "Nyr88915BKDE"
      },
      "source": [
        "Python range() function"
      ]
    },
    {
      "cell_type": "code",
      "metadata": {
        "id": "Xw1aDJfMBLIx",
        "colab": {
          "base_uri": "https://localhost:8080/"
        },
        "outputId": "64d62e47-1106-429b-a620-4515ab7f9e41"
      },
      "source": [
        "# Python Program to\n",
        "# show range() basics\n",
        "\n",
        "# printing a number\n",
        "for i in range(10):\n",
        "\tprint(i, end =\" \")\n",
        "print()\n",
        "\n",
        "# using range for iteration\n",
        "l = [10, 20, 30, 40]\n",
        "for i in range(len(l)):\n",
        "\tprint(l[i], end =\" \")\n",
        "print()\n",
        "\n",
        "# performing sum of natural\n",
        "# number\n",
        "sum = 0\n",
        "for i in range(1, 11):\n",
        "\tsum = sum + i\n",
        "print(\"Sum of first 10 natural number :\", sum)\n"
      ],
      "execution_count": null,
      "outputs": [
        {
          "output_type": "stream",
          "text": [
            "0 1 2 3 4 5 6 7 8 9 \n",
            "10 20 30 40 \n",
            "Sum of first 10 natural number : 55\n"
          ],
          "name": "stdout"
        }
      ]
    },
    {
      "cell_type": "code",
      "metadata": {
        "id": "tfVSlZEpBV9f"
      },
      "source": [
        "# Python program to\n",
        "# print whole number\n",
        "# using range()\n",
        "\n",
        "# printing first 10\n",
        "# whole number\n",
        "for i in range(10):\n",
        "\tprint(i, end =\" \")\n",
        "print()\n",
        "\n",
        "# printing first 20\n",
        "# whole number\n",
        "for i in range(20):\n",
        "\tprint(i, end = \" \")\n"
      ],
      "execution_count": null,
      "outputs": []
    },
    {
      "cell_type": "code",
      "metadata": {
        "id": "oGzoDSGtBY-o"
      },
      "source": [
        "# Python program to\n",
        "# print natural number\n",
        "# using range\n",
        "\n",
        "# printing a natural\n",
        "# number upto 20\n",
        "for i in range(1, 20):\n",
        "\tprint(i, end =\" \")\n",
        "print()\n",
        "\n",
        "# printing a natural\n",
        "# number from 5 t0 20\n",
        "for i in range(5, 20):\n",
        "\tprint(i, end =\" \")\n"
      ],
      "execution_count": null,
      "outputs": []
    },
    {
      "cell_type": "code",
      "metadata": {
        "id": "QqytidHXBhPP",
        "colab": {
          "base_uri": "https://localhost:8080/"
        },
        "outputId": "33824fcc-c692-4253-ecfc-330a3ae7baf4"
      },
      "source": [
        "# Python program to\n",
        "# print all number\n",
        "# divisible by 3 and 5\n",
        "\n",
        "# using range to print number\n",
        "# divisible by 3\n",
        "for i in range(0, 30, 3):\n",
        "\tprint(i, end = \" \")\n",
        "print()\n",
        "\n",
        "# using range to print number\n",
        "# divisible by 5\n",
        "for i in range(0, 50, 5):\n",
        "\tprint(i, end = \" \")\n",
        "\t\n"
      ],
      "execution_count": null,
      "outputs": [
        {
          "output_type": "stream",
          "text": [
            "0 \n",
            "0 5 10 15 20 25 30 35 40 45 "
          ],
          "name": "stdout"
        }
      ]
    },
    {
      "cell_type": "code",
      "metadata": {
        "id": "z-DTTbxOBnE1",
        "colab": {
          "base_uri": "https://localhost:8080/"
        },
        "outputId": "465bb4fa-10e3-4a29-9ffd-55d3704f9310"
      },
      "source": [
        "# Python program to\n",
        "# increment with\n",
        "# range()\n",
        "\n",
        "# incremented by 2\n",
        "for i in range(2, 25, 2):\n",
        "\tprint(i, end =\" \")\n",
        "print()\n",
        "\n",
        "# incremented by 4\n",
        "for i in range(0, 30, 4):\n",
        "\tprint(i, end =\" \")\n",
        "print()\n",
        "\n",
        "# incremented by 3\n",
        "for i in range(15, 25, 3):\n",
        "\tprint(i, end =\" \")\n"
      ],
      "execution_count": null,
      "outputs": [
        {
          "output_type": "stream",
          "text": [
            "2 4 6 8 10 12 14 16 18 20 22 24 \n",
            "0 4 8 12 16 20 24 28 \n",
            "15 18 21 24 "
          ],
          "name": "stdout"
        }
      ]
    },
    {
      "cell_type": "code",
      "metadata": {
        "id": "Mzq7myN6Bn-1",
        "colab": {
          "base_uri": "https://localhost:8080/"
        },
        "outputId": "272199a3-793d-4bee-a88e-86861c870748"
      },
      "source": [
        "# Python program to\n",
        "# decrement with\n",
        "# range()\n",
        "\n",
        "# incremented by -2\n",
        "for i in range(25, 2, -2):\n",
        "\tprint(i, end =\" \")\n",
        "print()\n",
        "\n",
        "# incremented by -4\n",
        "for i in range(30, 1, -4):\n",
        "\tprint(i, end =\" \")\n",
        "print()\n",
        "\n",
        "# incremented by -3\n",
        "for i in range(25, -6, -3):\n",
        "\tprint(i, end =\" \")\n"
      ],
      "execution_count": null,
      "outputs": [
        {
          "output_type": "stream",
          "text": [
            "25 23 21 19 17 15 13 11 9 7 5 3 \n",
            "30 26 22 18 14 10 6 2 \n",
            "25 22 19 16 13 10 7 4 1 -2 -5 "
          ],
          "name": "stdout"
        }
      ]
    },
    {
      "cell_type": "code",
      "metadata": {
        "id": "Uv3ncOCoBrgw"
      },
      "source": [
        "# Python program to concatenate\n",
        "# the result of two range functions\n",
        "\n",
        "\n",
        "from itertools import chain\n",
        "\n",
        "\n",
        "# Using chain method\n",
        "print(\"Concatenating the result\")\n",
        "res = chain(range(5), range(10, 20, 2))\n",
        "\n",
        "for i in res:\n",
        "\tprint(i, end=\" \")\n"
      ],
      "execution_count": null,
      "outputs": []
    },
    {
      "cell_type": "code",
      "metadata": {
        "id": "FUx3xx_-B6QL"
      },
      "source": [
        "# Python program to demonstrate\n",
        "# range function\n",
        "\n",
        "\n",
        "ele = range(10)[0]\n",
        "print(\"First element:\", ele)\n",
        "\n",
        "ele = range(10)[-1]\n",
        "print(\"\\nLast element:\", ele)\n",
        "\n",
        "ele = range(10)[4]\n",
        "print(\"\\nFifth element:\", ele)\n"
      ],
      "execution_count": null,
      "outputs": []
    },
    {
      "cell_type": "markdown",
      "metadata": {
        "id": "g5pDz2CzCglM"
      },
      "source": [
        "LISTS [ . . . ]"
      ]
    },
    {
      "cell_type": "code",
      "metadata": {
        "id": "yFMmqzaUB_6g"
      },
      "source": [
        "# Python program to demonstrate\n",
        "# Creation of List\n",
        "\n",
        "# Creating a List\n",
        "List = []\n",
        "print(\"Blank List: \")\n",
        "print(List)\n",
        "\n",
        "# Creating a List of numbers\n",
        "List = [10, 20, 14]\n",
        "print(\"\\nList of numbers: \")\n",
        "print(List)\n",
        "\n",
        "# Creating a List of strings and accessing\n",
        "# using index\n",
        "List = [\"Geeks\", \"For\", \"Geeks\"]\n",
        "print(\"\\nList Items: \")\n",
        "print(List[0])\n",
        "print(List[2])\n",
        "\n",
        "# Creating a Multi-Dimensional List\n",
        "# (By Nesting a list inside a List)\n",
        "List = [['Geeks', 'For'] , ['Geeks']]\n",
        "print(\"\\nMulti-Dimensional List: \")\n",
        "print(List)\n"
      ],
      "execution_count": null,
      "outputs": []
    },
    {
      "cell_type": "code",
      "metadata": {
        "id": "DYzYIvqBDCK-"
      },
      "source": [
        "# Creating a List with\n",
        "# the use of Numbers\n",
        "# (Having duplicate values)\n",
        "List = [1, 2, 4, 4, 3, 3, 3, 6, 5]\n",
        "print(\"\\nList with the use of Numbers: \")\n",
        "print(List)\n",
        "\n",
        "# Creating a List with\n",
        "# mixed type of values\n",
        "# (Having numbers and strings)\n",
        "List = [1, 2, 'Geeks', 4, 'For', 6, 'Geeks']\n",
        "print(\"\\nList with the use of Mixed Values: \")\n",
        "print(List)\n"
      ],
      "execution_count": null,
      "outputs": []
    },
    {
      "cell_type": "code",
      "metadata": {
        "id": "Od1jDYMtDGyF"
      },
      "source": [
        "# Creating a List\n",
        "List1 = []\n",
        "print(len(List1))\n",
        "\n",
        "# Creating a List of numbers\n",
        "List2 = [10, 20, 14]\n",
        "print(len(List2))\n"
      ],
      "execution_count": null,
      "outputs": []
    },
    {
      "cell_type": "code",
      "metadata": {
        "id": "x_lSd84zDLzy"
      },
      "source": [
        "# Python program to demonstrate\n",
        "# Addition of elements in a List\n",
        "\n",
        "# Creating a List\n",
        "List = []\n",
        "print(\"Initial blank List: \")\n",
        "print(List)\n",
        "\n",
        "# Addition of Elements\n",
        "# in the List\n",
        "List.append(1)\n",
        "List.append(2)\n",
        "List.append(4)\n",
        "print(\"\\nList after Addition of Three elements: \")\n",
        "print(List)\n",
        "\n",
        "# Adding elements to the List\n",
        "# using Iterator\n",
        "for i in range(1, 4):\n",
        "\tList.append(i)\n",
        "print(\"\\nList after Addition of elements from 1-3: \")\n",
        "print(List)\n",
        "\n",
        "# Adding Tuples to the List\n",
        "List.append((5, 6))\n",
        "print(\"\\nList after Addition of a Tuple: \")\n",
        "print(List)\n",
        "\n",
        "# Addition of List to a List\n",
        "List2 = ['For', 'Geeks']\n",
        "List.append(List2)\n",
        "print(\"\\nList after Addition of a List: \")\n",
        "print(List)\n"
      ],
      "execution_count": null,
      "outputs": []
    },
    {
      "cell_type": "code",
      "metadata": {
        "id": "I0UnGuGEDOk8"
      },
      "source": [
        "# Python program to demonstrate\n",
        "# Addition of elements in a List\n",
        "\n",
        "# Creating a List\n",
        "List = [1,2,3,4]\n",
        "print(\"Initial List: \")\n",
        "print(List)\n",
        "\n",
        "# Addition of Element at\n",
        "# specific Position\n",
        "# (using Insert Method)\n",
        "List.insert(3, 12)\n",
        "List.insert(0, 'Geeks')\n",
        "print(\"\\nList after performing Insert Operation: \")\n",
        "print(List)\n"
      ],
      "execution_count": null,
      "outputs": []
    },
    {
      "cell_type": "code",
      "metadata": {
        "id": "td05Q2HPDPOz"
      },
      "source": [
        "# Python program to demonstrate\n",
        "# Addition of elements in a List\n",
        "\t\n",
        "# Creating a List\n",
        "List = [1,2,3,4]\n",
        "print(\"Initial List: \")\n",
        "print(List)\n",
        "\n",
        "# Addition of multiple elements\n",
        "# to the List at the end\n",
        "# (using Extend Method)\n",
        "List.extend([8, 'Geeks', 'Always'])\n",
        "print(\"\\nList after performing Extend Operation: \")\n",
        "print(List)\n"
      ],
      "execution_count": null,
      "outputs": []
    },
    {
      "cell_type": "code",
      "metadata": {
        "id": "PpUcnDHwDQ3y"
      },
      "source": [
        "# Python program to demonstrate\n",
        "# accessing of element from list\n",
        "\n",
        "# Creating a List with\n",
        "# the use of multiple values\n",
        "List = [\"Geeks\", \"For\", \"Geeks\"]\n",
        "\n",
        "# accessing a element from the\n",
        "# list using index number\n",
        "print(\"Accessing a element from the list\")\n",
        "print(List[0])\n",
        "print(List[2])\n",
        "\n",
        "# Creating a Multi-Dimensional List\n",
        "# (By Nesting a list inside a List)\n",
        "List = [['Geeks', 'For'] , ['Geeks']]\n",
        "\n",
        "# accessing an element from the\n",
        "# Multi-Dimensional List using\n",
        "# index number\n",
        "print(\"Accessing a element from a Multi-Dimensional list\")\n",
        "print(List[0][1])\n",
        "print(List[1][0])\n"
      ],
      "execution_count": null,
      "outputs": []
    },
    {
      "cell_type": "code",
      "metadata": {
        "id": "rdaRnZchDSo1"
      },
      "source": [
        "List = [1, 2, 'Geeks', 4, 'For', 6, 'Geeks']\n",
        "\n",
        "# accessing a element using\n",
        "# negative indexing\n",
        "print(\"Accessing element using negative indexing\")\n",
        "\n",
        "# print the last element of list\n",
        "print(List[-1])\n",
        "\n",
        "# print the third last element of list\n",
        "print(List[-3])\n"
      ],
      "execution_count": null,
      "outputs": []
    },
    {
      "cell_type": "code",
      "metadata": {
        "id": "XjtlNwZ0DU2K"
      },
      "source": [
        "# Python program to demonstrate\n",
        "# Removal of elements in a List\n",
        "\n",
        "# Creating a List\n",
        "List = [1, 2, 3, 4, 5, 6,\n",
        "\t\t7, 8, 9, 10, 11, 12]\n",
        "print(\"Initial List: \")\n",
        "print(List)\n",
        "\n",
        "# Removing elements from List\n",
        "# using Remove() method\n",
        "List.remove(5)\n",
        "List.remove(6)\n",
        "print(\"\\nList after Removal of two elements: \")\n",
        "print(List)\n",
        "\n",
        "# Removing elements from List\n",
        "# using iterator method\n",
        "for i in range(1, 5):\n",
        "\tList.remove(i)\n",
        "print(\"\\nList after Removing a range of elements: \")\n",
        "print(List)\n"
      ],
      "execution_count": null,
      "outputs": []
    },
    {
      "cell_type": "code",
      "metadata": {
        "id": "YNdnr4AGDWuL"
      },
      "source": [
        "List = [1,2,3,4,5]\n",
        "\n",
        "# Removing element from the\n",
        "# Set using the pop() method\n",
        "List.pop()\n",
        "print(\"\\nList after popping an element: \")\n",
        "print(List)\n",
        "\n",
        "# Removing element at a\n",
        "# specific location from the\n",
        "# Set using the pop() method\n",
        "List.pop(2)\n",
        "print(\"\\nList after popping a specific element: \")\n",
        "print(List)\n"
      ],
      "execution_count": null,
      "outputs": []
    },
    {
      "cell_type": "code",
      "metadata": {
        "id": "FIVdzADFDYvM"
      },
      "source": [
        "# Python program to demonstrate\n",
        "# Removal of elements in a List\n",
        "\n",
        "# Creating a List\n",
        "List = ['G','E','E','K','S','F',\n",
        "\t\t'O','R','G','E','E','K','S']\n",
        "print(\"Initial List: \")\n",
        "print(List)\n",
        "\n",
        "# Print elements of a range\n",
        "# using Slice operation\n",
        "Sliced_List = List[3:8]\n",
        "print(\"\\nSlicing elements in a range 3-8: \")\n",
        "print(Sliced_List)\n",
        "\n",
        "# Print elements from a\n",
        "# pre-defined point to end\n",
        "Sliced_List = List[5:]\n",
        "print(\"\\nElements sliced from 5th \"\n",
        "\t\"element till the end: \")\n",
        "print(Sliced_List)\n",
        "\n",
        "# Printing elements from\n",
        "# beginning till end\n",
        "Sliced_List = List[:]\n",
        "print(\"\\nPrinting all elements using slice operation: \")\n",
        "print(Sliced_List)\n"
      ],
      "execution_count": null,
      "outputs": []
    },
    {
      "cell_type": "code",
      "metadata": {
        "id": "j7ULGTMiDo8l"
      },
      "source": [
        "# Creating a List\n",
        "List = ['G','E','E','K','S','F',\n",
        "\t\t'O','R','G','E','E','K','S']\n",
        "print(\"Initial List: \")\n",
        "print(List)\n",
        "\n",
        "# Print elements from beginning\n",
        "# to a pre-defined point using Slice\n",
        "Sliced_List = List[:-6]\n",
        "print(\"\\nElements sliced till 6th element from last: \")\n",
        "print(Sliced_List)\n",
        "\n",
        "# Print elements of a range\n",
        "# using negative index List slicing\n",
        "Sliced_List = List[-6:-1]\n",
        "print(\"\\nElements sliced from index -6 to -1\")\n",
        "print(Sliced_List)\n",
        "\n",
        "# Printing elements in reverse\n",
        "# using Slice operation\n",
        "Sliced_List = List[::-1]\n",
        "print(\"\\nPrinting List in reverse: \")\n",
        "print(Sliced_List)\n"
      ],
      "execution_count": null,
      "outputs": []
    },
    {
      "cell_type": "code",
      "metadata": {
        "id": "m5ZVhdjLDzyL"
      },
      "source": [
        "# Python program to demonstrate list\n",
        "# comprehension in Python\n",
        "\t\n",
        "# below list contains square of all\n",
        "# odd numbers from range 1 to 10\n",
        "odd_square = [x ** 2 for x in range(1, 11) if x % 2 == 1]\n",
        "print (odd_square)\n"
      ],
      "execution_count": null,
      "outputs": []
    },
    {
      "cell_type": "code",
      "metadata": {
        "id": "YM7I64MgLzjv"
      },
      "source": [
        "# Python3 program to count the number of times\n",
        "# an object appears in a list using count() method\n",
        "\n",
        "list1 = [1, 1, 1, 2, 3, 2, 1]\n",
        "\n",
        "# Counts the number of times 1 appears in list1\n",
        "print(list1.count(1))\n",
        "\n",
        "list2 = ['a', 'a', 'a', 'b', 'b', 'a', 'c', 'b']\n",
        "\n",
        "# Counts the number of times 'b' appears in list2\n",
        "print(list2.count('b'))\n",
        "\n",
        "list3 = ['Cat', 'Bat', 'Sat', 'Cat', 'cat', 'Mat']\n",
        "\n",
        "# Counts the number of times 'Cat' appears in list3\n",
        "print(list3.count('Cat'))\n"
      ],
      "execution_count": null,
      "outputs": []
    },
    {
      "cell_type": "code",
      "metadata": {
        "id": "Y7eVVrjBMU-d"
      },
      "source": [
        "numbers = [1, 3, 4, 2]\n",
        "\n",
        "# Sorting list of Integers in ascending\n",
        "numbers.sort()\n",
        "\n",
        "print(numbers)\n"
      ],
      "execution_count": null,
      "outputs": []
    },
    {
      "cell_type": "code",
      "metadata": {
        "id": "N17YV1pmMYng"
      },
      "source": [
        "strs = [\"geeks\", \"code\", \"ide\", \"practice\"]\n",
        "\n",
        "# Sorting list of Integers in ascending\n",
        "strs.sort()\n",
        "\n",
        "print(strs)\n"
      ],
      "execution_count": null,
      "outputs": []
    },
    {
      "cell_type": "code",
      "metadata": {
        "id": "Ammt3FZwMbxK"
      },
      "source": [
        "numbers = [1, 3, 4, 2]\n",
        "\n",
        "# Sorting list of Integers in descending\n",
        "numbers.sort(reverse = True)\n",
        "\n",
        "print(numbers)\n"
      ],
      "execution_count": null,
      "outputs": []
    },
    {
      "cell_type": "code",
      "metadata": {
        "id": "nJaTkMdLM7sp"
      },
      "source": [
        "# Python program to demonstrate sorting by user's\n",
        "# choice\n",
        "\n",
        "# function to return the second element of the\n",
        "# two elements passed as the parameter\n",
        "def sortSecond(val):\n",
        "\treturn val[1]\n",
        "\n",
        "# list1 to demonstrate the use of sorting\n",
        "# using using second key\n",
        "list1 = [(1, 2), (3, 3), (1, 1)]\n",
        "\n",
        "# sorts the array in ascending according to\n",
        "# second element\n",
        "list1.sort(key = sortSecond)\n",
        "print(list1)\n",
        "\n",
        "# sorts the array in descending according to\n",
        "# second element\n",
        "list1.sort(key = sortSecond, reverse = True)\n",
        "print(list1)\n"
      ],
      "execution_count": null,
      "outputs": []
    },
    {
      "cell_type": "code",
      "metadata": {
        "id": "t7hWNOExNVBW"
      },
      "source": [
        "# Python 3 code to demonstrate\n",
        "# working of list.copy()\n",
        "\n",
        "# Initializing list\n",
        "lis1 = [ 1, 2, 3, 4 ]\n",
        "\n",
        "# Using copy() to create a shallow copy\n",
        "lis2 = lis1.copy()\n",
        "\n",
        "# Printing new list\n",
        "print (\"The new list created is : \" + str(lis2))\n",
        "\n",
        "# Adding new element to new list\n",
        "lis2.append(5)\n",
        "\n",
        "# Printing lists after adding new element\n",
        "# No change in old list\n",
        "print (\"The new list after adding new element : \" + str(lis2))\n",
        "print (\"The old list after adding new element to new list : \" + str(lis1))\n"
      ],
      "execution_count": null,
      "outputs": []
    },
    {
      "cell_type": "markdown",
      "metadata": {
        "id": "Ik6viIgpEURG"
      },
      "source": [
        "Multi-dimensional lists in Python"
      ]
    },
    {
      "cell_type": "code",
      "metadata": {
        "id": "32d1Z6lFD0Xj"
      },
      "source": [
        "# Python program to demonstrate printing\n",
        "# of complete multidimensional list\n",
        "a = [[2, 4, 6, 8, 10], [3, 6, 9, 12, 15], [4, 8, 12, 16, 20]]\n",
        "print(a)\n"
      ],
      "execution_count": null,
      "outputs": []
    },
    {
      "cell_type": "code",
      "metadata": {
        "id": "pNxN81hzEWw_"
      },
      "source": [
        "# Python program to demonstrate printing\n",
        "# of complete multidimensional list row\n",
        "# by row.\n",
        "a = [[2, 4, 6, 8, 10], [3, 6, 9, 12, 15], [4, 8, 12, 16, 20]]\n",
        "for record in a:\n",
        "\tprint(record)\n"
      ],
      "execution_count": null,
      "outputs": []
    },
    {
      "cell_type": "code",
      "metadata": {
        "id": "IeebgJVtEY1Y"
      },
      "source": [
        "# Python program to demonstrate that we\n",
        "# can access multidimensional list using\n",
        "# square brackets\n",
        "a = [ [2, 4, 6, 8 ],\n",
        "\t[ 1, 3, 5, 7 ],\n",
        "\t[ 8, 6, 4, 2 ],\n",
        "\t[ 7, 5, 3, 1 ] ]\n",
        "\t\t\n",
        "for i in range(len(a)) :\n",
        "\tfor j in range(len(a[i])) :\n",
        "\t\tprint(a[i][j], end=\" \")\n",
        "\tprint()\t\n"
      ],
      "execution_count": null,
      "outputs": []
    },
    {
      "cell_type": "code",
      "metadata": {
        "id": "OCyrQaRMEao_"
      },
      "source": [
        "# Python program to create a m x n matrix\n",
        "# with all 0s\n",
        "m = 4\n",
        "n = 5\n",
        "\n",
        "a = [[0 for x in range(n)] for x in range(m)]\n",
        "print(a)\n"
      ],
      "execution_count": null,
      "outputs": []
    },
    {
      "cell_type": "code",
      "metadata": {
        "id": "fe16s48AEf0j"
      },
      "source": [
        "# Adding a sublist\n",
        "\n",
        "a = [[2, 4, 6, 8, 10], [3, 6, 9, 12, 15], [4, 8, 12, 16, 20]]\n",
        "a.append([5, 10, 15, 20, 25])\n",
        "print(a)\n"
      ],
      "execution_count": null,
      "outputs": []
    },
    {
      "cell_type": "code",
      "metadata": {
        "id": "Sn7AoWO2EjT6"
      },
      "source": [
        "# Extending a sublist\n",
        "\n",
        "a = [[2, 4, 6, 8, 10], [3, 6, 9, 12, 15], [4, 8, 12, 16, 20]]\n",
        "a[0].extend([12, 14, 16, 18])\n",
        "print(a)\n"
      ],
      "execution_count": null,
      "outputs": []
    },
    {
      "cell_type": "code",
      "metadata": {
        "id": "J-M8NEe7FvaC"
      },
      "source": [
        "# Reversing a sublist\n",
        "\n",
        "a = [[2, 4, 6, 8, 10], [3, 6, 9, 12, 15], [4, 8, 12, 16, 20]]\n",
        "a[2].reverse()\n",
        "print(a)\n"
      ],
      "execution_count": null,
      "outputs": []
    },
    {
      "cell_type": "markdown",
      "metadata": {
        "id": "kiNAnrSCNjwr"
      },
      "source": [
        "Tuples - Immutable ( . . . )"
      ]
    },
    {
      "cell_type": "code",
      "metadata": {
        "id": "kJYrfl97FwIJ"
      },
      "source": [
        "# An empty tuple\n",
        "empty_tuple = ()\n",
        "print (empty_tuple)\n"
      ],
      "execution_count": null,
      "outputs": []
    },
    {
      "cell_type": "code",
      "metadata": {
        "id": "zgDu4IEQOB1g"
      },
      "source": [
        "# Creating non-empty tuples\n",
        "\n",
        "# One way of creation\n",
        "tup = 'python', 'geeks'\n",
        "print(tup)\n",
        "\n",
        "# Another for doing the same\n",
        "tup = ('python', 'geeks')\n",
        "print(tup)\n"
      ],
      "execution_count": null,
      "outputs": []
    },
    {
      "cell_type": "code",
      "metadata": {
        "id": "KHBogeqhOINb"
      },
      "source": [
        "# Code for concatenating 2 tuples\n",
        "\n",
        "tuple1 = (0, 1, 2, 3)\n",
        "tuple2 = ('python', 'geek')\n",
        "\n",
        "# Concatenating above two\n",
        "print(tuple1 + tuple2)\n"
      ],
      "execution_count": null,
      "outputs": []
    },
    {
      "cell_type": "code",
      "metadata": {
        "id": "jGGLpNFJON7I"
      },
      "source": [
        "# Code for creating nested tuples\n",
        "\n",
        "tuple1 = (0, 1, 2, 3)\n",
        "tuple2 = ('python', 'geek')\n",
        "tuple3 = (tuple1, tuple2)\n",
        "print(tuple3)\n"
      ],
      "execution_count": null,
      "outputs": []
    },
    {
      "cell_type": "code",
      "metadata": {
        "id": "ojZ-GxvfOOqM"
      },
      "source": [
        "# Code to create a tuple with repetition\n",
        "\n",
        "tuple3 = ('python',)*3\n",
        "print(tuple3)\n"
      ],
      "execution_count": null,
      "outputs": []
    },
    {
      "cell_type": "code",
      "metadata": {
        "id": "61jJgPB5ORET"
      },
      "source": [
        "#code to test that tuples are immutable\n",
        "\n",
        "tuple1 = (0, 1, 2, 3)\n",
        "tuple1[0] = 4\n",
        "print(tuple1)\n"
      ],
      "execution_count": null,
      "outputs": []
    },
    {
      "cell_type": "code",
      "metadata": {
        "id": "CBuz2ZhmOWoi"
      },
      "source": [
        "# code to test slicing\n",
        "\n",
        "tuple1 = (0 ,1, 2, 3)\n",
        "print(tuple1[1:])\n",
        "print(tuple1[::-1])\n",
        "print(tuple1[2:4])\n"
      ],
      "execution_count": null,
      "outputs": []
    },
    {
      "cell_type": "code",
      "metadata": {
        "id": "tNXBPfetOXZm"
      },
      "source": [
        "# Code for deleting a tuple\n",
        "\n",
        "tuple3 = ( 0, 1)\n",
        "del tuple3\n",
        "print(tuple3)\n"
      ],
      "execution_count": null,
      "outputs": []
    },
    {
      "cell_type": "code",
      "metadata": {
        "id": "stgt6fHeOag-"
      },
      "source": [
        "# Code for printing the length of a tuple\n",
        "\n",
        "tuple2 = ('python', 'geek')\n",
        "print(len(tuple2))\n"
      ],
      "execution_count": null,
      "outputs": []
    },
    {
      "cell_type": "code",
      "metadata": {
        "id": "W000RUPHOcwl"
      },
      "source": [
        "# Code for converting a list and a string into a tuple\n",
        "\n",
        "list1 = [0, 1, 2]\n",
        "print(tuple(list1))\n",
        "print(tuple('python')) # string 'python'\n"
      ],
      "execution_count": null,
      "outputs": []
    },
    {
      "cell_type": "code",
      "metadata": {
        "id": "9snyiPCuOh-M"
      },
      "source": [
        "#python code for creating tuples in a loop\n",
        "\n",
        "tup = ('geek',)\n",
        "n = 5 #Number of time loop runs\n",
        "for i in range(int(n)):\n",
        "\ttup = (tup,)\n",
        "\tprint(tup)\n"
      ],
      "execution_count": null,
      "outputs": []
    },
    {
      "cell_type": "code",
      "metadata": {
        "id": "NfHm66GcOjbo"
      },
      "source": [
        "# A python program to demonstrate the use of\n",
        "# cmp(), max(), min()\n",
        "\n",
        "tuple1 = ('python', 'geek')\n",
        "tuple2 = ('coder', 1)\n",
        "\n",
        "if (cmp(tuple1, tuple2) != 0):\n",
        "\n",
        "\t# cmp() returns 0 if matched, 1 when not tuple1\n",
        "\t# is longer and -1 when tuple1 is shoter\n",
        "\tprint('Not the same')\n",
        "else:\n",
        "\tprint('Same')\n",
        "print ('Maximum element in tuples 1,2: ' +\n",
        "\t\tstr(max(tuple1)) + ',' +\n",
        "\t\tstr(max(tuple2)))\n",
        "print ('Minimum element in tuples 1,2: ' +\n",
        "\tstr(min(tuple1)) + ',' + str(min(tuple2)))\n"
      ],
      "execution_count": null,
      "outputs": []
    },
    {
      "cell_type": "code",
      "metadata": {
        "id": "nn2hBEmNOt75"
      },
      "source": [
        "# Python3 code to study about\n",
        "# unpacking python tuple using *\n",
        "\n",
        "# first and last will be assigned to x and z\n",
        "# remaining will be assigned to y\n",
        "x, *y, z = (10, \"Geeks \", \" for \", \"Geeks \", 50)\n",
        "\n",
        "# print details\n",
        "print(x)\n",
        "print(y)\n",
        "print(z)\n",
        "\n",
        "# first and second will be assigned to x and y\n",
        "# remaining will be assigned to z\n",
        "x, y, *z = (10, \"Geeks \", \" for \", \"Geeks \", 50)\n",
        "print(x)\n",
        "print(y)\n",
        "print(z)\n"
      ],
      "execution_count": null,
      "outputs": []
    },
    {
      "cell_type": "markdown",
      "metadata": {
        "id": "uaEh2129O9uN"
      },
      "source": [
        "Dictionary { . . . } Key value pair \n",
        "\n",
        "Key - unique"
      ]
    },
    {
      "cell_type": "code",
      "metadata": {
        "id": "ji58WKxQPLEt"
      },
      "source": [
        "# Creating a Dictionary\n",
        "# with Integer Keys\n",
        "Dict = {1: 'Geeks', 2: 'For', 3: 'Geeks'}\n",
        "print(\"\\nDictionary with the use of Integer Keys: \")\n",
        "print(Dict)\n",
        "\n",
        "# Creating a Dictionary\n",
        "# with Mixed keys\n",
        "Dict = {'Name': 'Geeks', 1: [1, 2, 3, 4]}\n",
        "print(\"\\nDictionary with the use of Mixed Keys: \")\n",
        "print(Dict)\n"
      ],
      "execution_count": null,
      "outputs": []
    },
    {
      "cell_type": "code",
      "metadata": {
        "id": "vRkM3ZgLWoQz"
      },
      "source": [
        "# Creating an empty Dictionary\n",
        "Dict = {}\n",
        "print(\"Empty Dictionary: \")\n",
        "print(Dict)\n",
        "\n",
        "# Creating a Dictionary\n",
        "# with dict() method\n",
        "Dict = dict({1: 'Geeks', 2: 'For', 3:'Geeks'})\n",
        "print(\"\\nDictionary with the use of dict(): \")\n",
        "print(Dict)\n",
        "\n",
        "# Creating a Dictionary\n",
        "# with each item as a Pair\n",
        "Dict = dict([(1, 'Geeks'), (2, 'For')])\n",
        "print(\"\\nDictionary with each item as a pair: \")\n",
        "print(Dict)\n"
      ],
      "execution_count": null,
      "outputs": []
    },
    {
      "cell_type": "code",
      "metadata": {
        "id": "9rIyxfj9W4F3"
      },
      "source": [
        "# Creating a Nested Dictionary\n",
        "# as shown in the below image\n",
        "Dict = {1: 'Geeks', 2: 'For',\n",
        "\t\t3:{'A' : 'Welcome', 'B' : 'To', 'C' : 'Geeks'}}\n",
        "\n",
        "print(Dict)\n"
      ],
      "execution_count": null,
      "outputs": []
    },
    {
      "cell_type": "code",
      "metadata": {
        "id": "gwzvN0dyW9R_"
      },
      "source": [
        "# Creating an empty Dictionary\n",
        "Dict = {}\n",
        "print(\"Empty Dictionary: \")\n",
        "print(Dict)\n",
        "\n",
        "# Adding elements one at a time\n",
        "Dict[0] = 'Geeks'\n",
        "Dict[2] = 'For'\n",
        "Dict[3] = 1\n",
        "print(\"\\nDictionary after adding 3 elements: \")\n",
        "print(Dict)\n",
        "\n",
        "# Adding set of values\n",
        "# to a single Key\n",
        "Dict['Value_set'] = 2, 3, 4\n",
        "print(\"\\nDictionary after adding 3 elements: \")\n",
        "print(Dict)\n",
        "\n",
        "# Updating existing Key's Value\n",
        "Dict[2] = 'Welcome'\n",
        "print(\"\\nUpdated key value: \")\n",
        "print(Dict)\n",
        "\n",
        "# Adding Nested Key value to Dictionary\n",
        "Dict[5] = {'Nested' :{'1' : 'Life', '2' : 'Geeks'}}\n",
        "print(\"\\nAdding a Nested Key: \")\n",
        "print(Dict)\n"
      ],
      "execution_count": null,
      "outputs": []
    },
    {
      "cell_type": "code",
      "metadata": {
        "id": "7ByJMFDmXHu0"
      },
      "source": [
        "# Python program to demonstrate\n",
        "# accessing a element from a Dictionary\n",
        "\n",
        "# Creating a Dictionary\n",
        "Dict = {1: 'Geeks', 'name': 'For', 3: 'Geeks'}\n",
        "\n",
        "# accessing a element using key\n",
        "print(\"Accessing a element using key:\")\n",
        "print(Dict['name'])\n",
        "\n",
        "# accessing a element using key\n",
        "print(\"Accessing a element using key:\")\n",
        "print(Dict[1])\n"
      ],
      "execution_count": null,
      "outputs": []
    },
    {
      "cell_type": "code",
      "metadata": {
        "id": "dt2R7PqsXVcG"
      },
      "source": [
        "# Creating a Dictionary\n",
        "Dict = {1: 'Geeks', 'name': 'For', 3: 'Geeks'}\n",
        "\n",
        "# accessing a element using get()\n",
        "# method\n",
        "print(\"Accessing a element using get:\")\n",
        "print(Dict.get(3))\n"
      ],
      "execution_count": null,
      "outputs": []
    },
    {
      "cell_type": "code",
      "metadata": {
        "id": "KFFefPoNXZTX"
      },
      "source": [
        "# Creating a Dictionary\n",
        "Dict = {'Dict1': {1: 'Geeks'},\n",
        "\t\t'Dict2': {'Name': 'For'}}\n",
        "\n",
        "# Accessing element using key\n",
        "print(Dict['Dict1'])\n",
        "print(Dict['Dict1'][1])\n",
        "print(Dict['Dict2']['Name'])\n"
      ],
      "execution_count": null,
      "outputs": []
    },
    {
      "cell_type": "code",
      "metadata": {
        "id": "q45kKqIKXkwo"
      },
      "source": [
        "# Initial Dictionary\n",
        "Dict = { 5 : 'Welcome', 6 : 'To', 7 : 'Geeks',\n",
        "\t\t'A' : {1 : 'Geeks', 2 : 'For', 3 : 'Geeks'},\n",
        "\t\t'B' : {1 : 'Geeks', 2 : 'Life'}}\n",
        "print(\"Initial Dictionary: \")\n",
        "print(Dict)\n",
        "\n",
        "# Deleting a Key value\n",
        "del Dict[6]\n",
        "print(\"\\nDeleting a specific key: \")\n",
        "print(Dict)\n",
        "\n",
        "# Deleting a Key from\n",
        "# Nested Dictionary\n",
        "del Dict['A'][2]\n",
        "print(\"\\nDeleting a key from Nested Dictionary: \")\n",
        "print(Dict)\n"
      ],
      "execution_count": null,
      "outputs": []
    },
    {
      "cell_type": "code",
      "metadata": {
        "id": "uegpTL5QXyKy"
      },
      "source": [
        "# Creating a Dictionary\n",
        "Dict = {1: 'Geeks', 'name': 'For', 3: 'Geeks'}\n",
        "\n",
        "# Deleting a key\n",
        "# using pop() method\n",
        "pop_ele = Dict.pop(1)\n",
        "print('\\nDictionary after deletion: ' + str(Dict))\n",
        "print('Value associated to poped key is: ' + str(pop_ele))\n"
      ],
      "execution_count": null,
      "outputs": []
    },
    {
      "cell_type": "code",
      "metadata": {
        "id": "qZHvRIN1YIqW"
      },
      "source": [
        "# Creating Dictionary\n",
        "Dict = {1: 'Geeks', 'name': 'For', 3: 'Geeks'}\n",
        "\n",
        "# Deleting an arbitrary key\n",
        "# using popitem() function\n",
        "pop_ele = Dict.popitem()\n",
        "print(\"\\nDictionary after deletion: \" + str(Dict))\n",
        "print(\"The arbitrary pair returned is: \" + str(pop_ele))\n"
      ],
      "execution_count": null,
      "outputs": []
    },
    {
      "cell_type": "code",
      "metadata": {
        "id": "v5H2IzQZYLNA"
      },
      "source": [
        "# Creating a Dictionary\n",
        "Dict = {1: 'Geeks', 'name': 'For', 3: 'Geeks'}\n",
        "\n",
        "\n",
        "# Deleting entire Dictionary\n",
        "Dict.clear()\n",
        "print(\"\\nDeleting Entire Dictionary: \")\n",
        "print(Dict)\n"
      ],
      "execution_count": null,
      "outputs": []
    },
    {
      "cell_type": "markdown",
      "metadata": {
        "id": "tD_kH44BZs41"
      },
      "source": [
        "Functions"
      ]
    },
    {
      "cell_type": "code",
      "metadata": {
        "id": "oy8kdn09ZtpS"
      },
      "source": [
        "# A simple Python function to check\n",
        "# whether x is even or odd\n",
        "\n",
        "\n",
        "def evenOdd(x):\n",
        "\tif (x % 2 == 0):\n",
        "\t\tprint \"even\"\n",
        "\telse:\n",
        "\t\tprint \"odd\"\n",
        "\n",
        "\n",
        "# Driver code to call the function\n",
        "evenOdd(2)\n",
        "evenOdd(3)\n"
      ],
      "execution_count": null,
      "outputs": []
    },
    {
      "cell_type": "code",
      "metadata": {
        "id": "hHQVaH31Zvu3"
      },
      "source": [
        "def say_Hi():\n",
        "\t\"Hello! geeks!\"\n",
        "\n",
        "\n",
        "print(say_Hi.__doc__)\n"
      ],
      "execution_count": null,
      "outputs": []
    },
    {
      "cell_type": "code",
      "metadata": {
        "id": "DnGBaNrAZ7yj"
      },
      "source": [
        "def square_value(num):\n",
        "\t\"\"\"This function returns the square\n",
        "\tvalue of the entered number\"\"\"\n",
        "\treturn num**2\n",
        "\n",
        "\n",
        "print(square_value(2))\n",
        "\n",
        "print(square_value(-4))\n"
      ],
      "execution_count": null,
      "outputs": []
    },
    {
      "cell_type": "code",
      "metadata": {
        "id": "k0CjJMXpZ96I"
      },
      "source": [
        "# Here x is a new reference to same list lst\n",
        "def myFun(x):\n",
        "\tx[0] = 20\n",
        "\n",
        "\n",
        "# Driver Code (Note that lst is modified\n",
        "# after function call.\n",
        "lst = [10, 11, 12, 13, 14, 15]\n",
        "myFun(lst)\n",
        "print(lst)\n"
      ],
      "execution_count": null,
      "outputs": []
    },
    {
      "cell_type": "code",
      "metadata": {
        "id": "BOCgDyJ2arWW"
      },
      "source": [
        "def myFun(x):\n",
        "\n",
        "\t# After below line link of x with previous\n",
        "\t# object gets broken. A new object is assigned\n",
        "\t# to x.\n",
        "\tx = [20, 30, 40]\n",
        "\n",
        "\n",
        "# Driver Code (Note that lst is not modified\n",
        "# after function call.\n",
        "lst = [10, 11, 12, 13, 14, 15]\n",
        "myFun(lst)\n",
        "print(lst)\n"
      ],
      "execution_count": null,
      "outputs": []
    },
    {
      "cell_type": "code",
      "metadata": {
        "id": "nCbwIvejauoN"
      },
      "source": [
        "def myFun(x):\n",
        "\n",
        "\t# After below line link of x with previous\n",
        "\t# object gets broken. A new object is assigned\n",
        "\t# to x.\n",
        "\tx = 20\n",
        "\n",
        "\n",
        "# Driver Code (Note that lst is not modified\n",
        "# after function call.\n",
        "x = 10\n",
        "myFun(x)\n",
        "print(x)\n"
      ],
      "execution_count": null,
      "outputs": []
    },
    {
      "cell_type": "code",
      "metadata": {
        "id": "r5nUALfbawHA"
      },
      "source": [
        "def swap(x, y):\n",
        "\ttemp = x\n",
        "\tx = y\n",
        "\ty = temp\n",
        "\n",
        "\n",
        "# Driver code\n",
        "x = 2\n",
        "y = 3\n",
        "swap(x, y)\n",
        "print(x)\n",
        "print(y)\n"
      ],
      "execution_count": null,
      "outputs": []
    },
    {
      "cell_type": "code",
      "metadata": {
        "id": "N59Koy66azHt"
      },
      "source": [
        "# Python program to demonstrate\n",
        "# default arguments\n",
        "\n",
        "\n",
        "def myFun(x, y=50):\n",
        "\tprint(\"x: \", x)\n",
        "\tprint(\"y: \", y)\n",
        "\n",
        "\n",
        "# Driver code (We call myFun() with only\n",
        "# argument)\n",
        "myFun(10)\n"
      ],
      "execution_count": null,
      "outputs": []
    },
    {
      "cell_type": "code",
      "metadata": {
        "id": "84ocs6TRa60y"
      },
      "source": [
        "# Python program to demonstrate Keyword Arguments\n",
        "def student(firstname, lastname):\n",
        "\tprint(firstname, lastname)\n",
        "\n",
        "\n",
        "# Keyword arguments\n",
        "student(firstname='Geeks', lastname='Practice')\n",
        "student(lastname='Practice', firstname='Geeks')\n"
      ],
      "execution_count": null,
      "outputs": []
    },
    {
      "cell_type": "code",
      "metadata": {
        "id": "uiU-BJEubIZ8"
      },
      "source": [
        "# Python program to illustrate\n",
        "# *args for variable number of arguments\n",
        "\n",
        "\n",
        "def myFun(*argv):\n",
        "\tfor arg in argv:\n",
        "\t\tprint(arg)\n",
        "\n",
        "\n",
        "myFun('Hello', 'Welcome', 'to', 'GeeksforGeeks')\n"
      ],
      "execution_count": null,
      "outputs": []
    },
    {
      "cell_type": "code",
      "metadata": {
        "id": "iUCb3wj3bK1S"
      },
      "source": [
        "# Python program to illustrate\n",
        "# *kargs for variable number of keyword arguments\n",
        "\n",
        "\n",
        "def myFun(**kwargs):\n",
        "\tfor key, value in kwargs.items():\n",
        "\t\tprint(\"%s == %s\" % (key, value))\n",
        "\n",
        "\n",
        "# Driver code\n",
        "myFun(first='Geeks', mid='for', last='Geeks')\n"
      ],
      "execution_count": null,
      "outputs": []
    },
    {
      "cell_type": "code",
      "metadata": {
        "id": "LNqkAEazbTsk"
      },
      "source": [
        "# Python code to illustrate the cube of a number\n",
        "# using lambda function\n",
        "\n",
        "\n",
        "def cube(x): return x*x*x\n",
        "\n",
        "cube_v2 = lambda x : x*x*x\n",
        "\n",
        "print(cube(7))\n",
        "print(cube_v2(7))\n"
      ],
      "execution_count": null,
      "outputs": []
    },
    {
      "cell_type": "markdown",
      "metadata": {
        "id": "vzYbrIe3e8pI"
      },
      "source": [
        "Error Handling\n",
        "\n",
        "Exit Code 0 - Success\n",
        "\n",
        "other codes - > pgm crash"
      ]
    },
    {
      "cell_type": "code",
      "metadata": {
        "id": "TBxriHN7fnIW"
      },
      "source": [
        "# Python program to handle simple runtime error\n",
        "#Python 3\n",
        "\n",
        "a = [1, 2, 3]\n",
        "try:\n",
        "\tprint (\"Second element = %d\" %(a[1]))\n",
        "\n",
        "\t# Throws error since there are only 3 elements in array\n",
        "\tprint (\"Fourth element = %d\" %(a[3]))\n",
        "\n",
        "except IndexError:\n",
        "\tprint (\"An error occurred\")\n"
      ],
      "execution_count": null,
      "outputs": []
    },
    {
      "cell_type": "code",
      "metadata": {
        "id": "MSqNqs0agDpi"
      },
      "source": [
        "# Program to handle multiple errors with one except statement\n",
        "# Python 3\n",
        "try :\n",
        "\ta = 3\n",
        "\tif a < 4 :\n",
        "\n",
        "\t\t# throws ZeroDivisionError for a = 3\n",
        "\t\tb = a/(a-3)\n",
        "\t\n",
        "\t# throws NameError if a >= 4\n",
        "\tprint (\"Value of b = \", b)\n",
        "\n",
        "# note that braces () are necessary here for multiple exceptions\n",
        "except(ZeroDivisionError, NameError):\n",
        "\tprint (\"Error Occurred and Handled\")\n"
      ],
      "execution_count": null,
      "outputs": []
    },
    {
      "cell_type": "code",
      "metadata": {
        "id": "aFmCOGEJgER8"
      },
      "source": [
        "# Program to depict else clause with try-except\n",
        "# Python 3\n",
        "# Function which returns a/b\n",
        "def AbyB(a , b):\n",
        "\ttry:\n",
        "\t\tc = ((a+b) / (a-b))\n",
        "\texcept ZeroDivisionError:\n",
        "\t\tprint (\"a/b result in 0\")\n",
        "\telse:\n",
        "\t\tprint (c)\n",
        "\n",
        "# Driver program to test above function\n",
        "AbyB(2.0, 3.0)\n",
        "AbyB(3.0, 3.0)\n"
      ],
      "execution_count": null,
      "outputs": []
    },
    {
      "cell_type": "code",
      "metadata": {
        "id": "V9V4fMm4gLV3"
      },
      "source": [
        "# Python program to demonstrate finally\n",
        "\n",
        "# No exception Exception raised in try block\n",
        "try:\n",
        "\tk = 5//0 # raises divide by zero exception.\n",
        "\tprint(k)\n",
        "\n",
        "# handles zerodivision exception\t\n",
        "except ZeroDivisionError:\n",
        "\tprint(\"Can't divide by zero\")\n",
        "\t\n",
        "finally:\n",
        "\t# this block is always executed\n",
        "\t# regardless of exception generation.\n",
        "\tprint('This is always executed')\n"
      ],
      "execution_count": null,
      "outputs": []
    },
    {
      "cell_type": "code",
      "metadata": {
        "id": "b6ikYIkqgSys"
      },
      "source": [
        "# Program to depict Raising Exception\n",
        "\n",
        "try:\n",
        "\traise NameError(\"Hi there\") # Raise Error\n",
        "except NameError:\n",
        "\tprint (\"An exception\")\n",
        "\traise # To determine whether the exception was raised or not\n"
      ],
      "execution_count": null,
      "outputs": []
    },
    {
      "cell_type": "markdown",
      "metadata": {
        "id": "HaLIxJDWc-3S"
      },
      "source": [
        "Classes\n",
        "\n",
        "Classes are created by keyword class.\n",
        "\n",
        "Attributes are the variables that belong to a class.\n",
        "\n",
        "Attributes are always public and can be accessed using the dot (.) operator\n"
      ]
    },
    {
      "cell_type": "code",
      "metadata": {
        "colab": {
          "base_uri": "https://localhost:8080/"
        },
        "id": "8W4TcGSNdAnO",
        "outputId": "6755c361-b4fb-4376-97d6-c65fa03bc8f8"
      },
      "source": [
        "# Python3 program to\n",
        "# demonstrate instantiating\n",
        "# a class\n",
        "\n",
        "\n",
        "class D:\n",
        "\t\n",
        "\t# A simple class\n",
        "\t# attribute\n",
        "\tattr1 = \"D\"\n",
        "\tattr2 = \"d\"\n",
        "\n",
        "\t# A sample method\n",
        "\tdef fun(self):\n",
        "\t\tprint(\"I'm a\", self.attr1)\n",
        "\t\tprint(\"I'm a\", self.attr2)\n",
        "\n",
        "# Driver code\n",
        "# Object instantiation\n",
        "Rodger = D()\n",
        "\n",
        "# Accessing class attributes\n",
        "# and method through objects\n",
        "print(Rodger.attr1)\n",
        "Rodger.fun()\n"
      ],
      "execution_count": null,
      "outputs": [
        {
          "output_type": "stream",
          "text": [
            "D\n",
            "I'm a D\n",
            "I'm a d\n"
          ],
          "name": "stdout"
        }
      ]
    },
    {
      "cell_type": "markdown",
      "metadata": {
        "id": "URNjK1fOgyUk"
      },
      "source": [
        "The self\n",
        "\n",
        "Class methods must have an extra first parameter in the method definition. We do not give a value for this parameter when we call the method, Python provides it.\n",
        "\n",
        "If we have a method that takes no arguments, then we still have to have one argument.\n",
        "\n",
        "This is similar to this pointer in C++ and this reference in Java."
      ]
    },
    {
      "cell_type": "markdown",
      "metadata": {
        "id": "-5Tzi3S8hBFg"
      },
      "source": [
        "The __init__ method is similar to constructors"
      ]
    },
    {
      "cell_type": "code",
      "metadata": {
        "id": "5X7qLYeng2Ps"
      },
      "source": [
        "# A Sample class with init method\n",
        "class Person:\n",
        "\n",
        "\t# init method or constructor\n",
        "\tdef __init__(self, name):\n",
        "\t\tself.name = name\n",
        "\n",
        "\t# Sample Method\n",
        "\tdef say_hi(self):\n",
        "\t\tprint('Hello, my name is', self.name)\n",
        "\n",
        "p = Person('Dinesh')\n",
        "p.say_hi()\n"
      ],
      "execution_count": null,
      "outputs": []
    },
    {
      "cell_type": "markdown",
      "metadata": {
        "id": "3Sop0htBhSxA"
      },
      "source": [
        "Class and Instance Variables"
      ]
    },
    {
      "cell_type": "code",
      "metadata": {
        "id": "bM62cN6qhTiW"
      },
      "source": [
        "# Python3 program to show that the variables with a value\n",
        "# assigned in the class declaration, are class variables and\n",
        "# variables inside methods and constructors are instance\n",
        "# variables.\n",
        "\t\n",
        "# Class for Dog\n",
        "class Dog:\n",
        "\n",
        "\t# Class Variable\n",
        "\tanimal = 'dog'\t\t\t\n",
        "\n",
        "\t# The init method or constructor\n",
        "\tdef __init__(self, breed, color):\n",
        "\t\n",
        "\t\t# Instance Variable\t\n",
        "\t\tself.breed = breed\n",
        "\t\tself.color = color\t\n",
        "\t\n",
        "# Objects of Dog class\n",
        "Rodger = Dog(\"Pug\", \"brown\")\n",
        "Buzo = Dog(\"Bulldog\", \"black\")\n",
        "\n",
        "print('Rodger details:')\n",
        "print('Rodger is a', Rodger.animal)\n",
        "print('Breed: ', Rodger.breed)\n",
        "print('Color: ', Rodger.color)\n",
        "\n",
        "print('\\nBuzo details:')\n",
        "print('Buzo is a', Buzo.animal)\n",
        "print('Breed: ', Buzo.breed)\n",
        "print('Color: ', Buzo.color)\n",
        "\n",
        "# Class variables can be accessed using class\n",
        "# name also\n",
        "print(\"\\nAccessing class variable using class name\")\n",
        "print(Dog.animal)\t\n"
      ],
      "execution_count": null,
      "outputs": []
    },
    {
      "cell_type": "code",
      "metadata": {
        "id": "pXcVb1Fejzv3"
      },
      "source": [
        "# Python3 program to show that we can create\n",
        "# instance variables inside methods\n",
        "\t\n",
        "# Class for Dog\n",
        "class Dog:\n",
        "\t\n",
        "\t# Class Variable\n",
        "\tanimal = 'dog'\t\n",
        "\t\n",
        "\t# The init method or constructor\n",
        "\tdef __init__(self, breed):\n",
        "\t\t\n",
        "\t\t# Instance Variable\n",
        "\t\tself.breed = breed\t\t\t\n",
        "\n",
        "\t# Adds an instance variable\n",
        "\tdef setColor(self, color):\n",
        "\t\tself.color = color\n",
        "\t\n",
        "\t# Retrieves instance variable\t\n",
        "\tdef getColor(self):\t\n",
        "\t\treturn self.color\n",
        "\n",
        "# Driver Code\n",
        "Rodger = Dog(\"pug\")\n",
        "Rodger.setColor(\"brown\")\n",
        "print(Rodger.getColor())\n"
      ],
      "execution_count": null,
      "outputs": []
    },
    {
      "cell_type": "markdown",
      "metadata": {
        "id": "pMMNO3k6mBLS"
      },
      "source": [
        "<h1>Inheritance</h1>\n",
        "\n",
        "Single\n",
        "\n",
        "Multiple\n",
        "\n",
        "Multi level\n",
        "\n",
        "Hyerarcical\n",
        "\n",
        "Hybrid\n"
      ]
    },
    {
      "cell_type": "code",
      "metadata": {
        "id": "KGEtkevxmBf2"
      },
      "source": [
        "# A Python program to demonstrate inheritance\n",
        "\n",
        "# Base or Super class. Note object in bracket.\n",
        "# (Generally, object is made ancestor of all classes)\n",
        "# In Python 3.x \"class Person\" is\n",
        "# equivalent to \"class Person(object)\"\n",
        "class Person(object):\n",
        "\t\n",
        "\t# Constructor\n",
        "\tdef __init__(self, name):\n",
        "\t\tself.name = name\n",
        "\n",
        "\t# To get name\n",
        "\tdef getName(self):\n",
        "\t\treturn self.name\n",
        "\n",
        "\t# To check if this person is an employee\n",
        "\tdef isEmployee(self):\n",
        "\t\treturn False\n",
        "\n",
        "\n",
        "# Inherited or Subclass (Note Person in bracket)\n",
        "class Employee(Person):\n",
        "\n",
        "\t# Here we return true\n",
        "\tdef isEmployee(self):\n",
        "\t\treturn True\n",
        "\n",
        "# Driver code\n",
        "emp = Person(\"Geek1\") # An Object of Person\n",
        "print(emp.getName(), emp.isEmployee())\n",
        "\n",
        "emp = Employee(\"Geek2\") # An Object of Employee\n",
        "print(emp.getName(), emp.isEmployee())\n"
      ],
      "execution_count": null,
      "outputs": []
    },
    {
      "cell_type": "code",
      "metadata": {
        "id": "jVedtkJmmzI2"
      },
      "source": [
        "# Python code to demonstrate how parent constructors\n",
        "# are called.\n",
        "\n",
        "# parent class\n",
        "class Person( object ):\t\n",
        "\n",
        "\t\t# __init__ is known as the constructor\t\t\n",
        "\t\tdef __init__(self, name, idnumber):\n",
        "\t\t\t\tself.name = name\n",
        "\t\t\t\tself.idnumber = idnumber\n",
        "\t\tdef display(self):\n",
        "\t\t\t\tprint(self.name)\n",
        "\t\t\t\tprint(self.idnumber)\n",
        "\n",
        "# child class\n",
        "class Employee( Person ):\t\t\n",
        "\t\tdef __init__(self, name, idnumber, salary, post):\n",
        "\t\t\t\tself.salary = salary\n",
        "\t\t\t\tself.post = post\n",
        "\n",
        "\t\t\t\t# invoking the __init__ of the parent class\n",
        "\t\t\t\tPerson.__init__(self, name, idnumber)\n",
        "\n",
        "\t\t\t\t\n",
        "# creation of an object variable or an instance\n",
        "a = Employee('Rahul', 886012, 200000, \"Intern\")\t\n",
        "\n",
        "# calling a function of the class Person using its instance\n",
        "a.display()\n"
      ],
      "execution_count": null,
      "outputs": []
    },
    {
      "cell_type": "code",
      "metadata": {
        "id": "Usx-7761nJPh"
      },
      "source": [
        "# Python example to show the working of multiple\n",
        "# inheritance\n",
        "class Base1(object):\n",
        "\tdef __init__(self):\n",
        "\t\tself.str1 = \"Geek1\"\n",
        "\t\tprint(\"Base1\")\n",
        "\n",
        "class Base2(object):\n",
        "\tdef __init__(self):\n",
        "\t\tself.str2 = \"Geek2\"\t\t\n",
        "\t\tprint(\"Base2\")\n",
        "\n",
        "class Derived(Base1, Base2):\n",
        "\tdef __init__(self):\n",
        "\t\t\n",
        "\t\t# Calling constructors of Base1\n",
        "\t\t# and Base2 classes\n",
        "\t\tBase1.__init__(self)\n",
        "\t\tBase2.__init__(self)\n",
        "\t\tprint(\"Derived\")\n",
        "\t\t\n",
        "\tdef printStrs(self):\n",
        "\t\tprint(self.str1, self.str2)\n",
        "\t\t\n",
        "\n",
        "ob = Derived()\n",
        "ob.printStrs()\n"
      ],
      "execution_count": null,
      "outputs": []
    },
    {
      "cell_type": "code",
      "metadata": {
        "id": "jv-xoc_wnJ69"
      },
      "source": [
        "# A Python program to demonstrate inheritance\n",
        "\n",
        "# Base or Super class. Note object in bracket.\n",
        "# (Generally, object is made ancestor of all classes)\n",
        "# In Python 3.x \"class Person\" is\n",
        "# equivalent to \"class Person(object)\"\n",
        "class Base(object):\n",
        "\t\n",
        "\t# Constructor\n",
        "\tdef __init__(self, name):\n",
        "\t\tself.name = name\n",
        "\n",
        "\t# To get name\n",
        "\tdef getName(self):\n",
        "\t\treturn self.name\n",
        "\n",
        "\n",
        "# Inherited or Sub class (Note Person in bracket)\n",
        "class Child(Base):\n",
        "\t\n",
        "\t# Constructor\n",
        "\tdef __init__(self, name, age):\n",
        "\t\tBase.__init__(self, name)\n",
        "\t\tself.age = age\n",
        "\n",
        "\t# To get name\n",
        "\tdef getAge(self):\n",
        "\t\treturn self.age\n",
        "\n",
        "# Inherited or Sub class (Note Person in bracket)\n",
        "class GrandChild(Child):\n",
        "\t\n",
        "\t# Constructor\n",
        "\tdef __init__(self, name, age, address):\n",
        "\t\tChild.__init__(self, name, age)\n",
        "\t\tself.address = address\n",
        "\n",
        "\t# To get address\n",
        "\tdef getAddress(self):\n",
        "\t\treturn self.address\t\t\n",
        "\n",
        "# Driver code\n",
        "g = GrandChild(\"Geek1\", 23, \"Noida\")\n",
        "print(g.getName(), g.getAge(), g.getAddress())\n"
      ],
      "execution_count": null,
      "outputs": []
    },
    {
      "cell_type": "code",
      "metadata": {
        "id": "JSzyPqwhnn4Y"
      },
      "source": [
        "# Python program to demonstrate private members\n",
        "# of the parent class\n",
        "class C(object):\n",
        "\tdef __init__(self):\n",
        "\t\t\tself.c = 21\n",
        "\n",
        "\t\t\t# d is private instance variable\n",
        "\t\t\tself.__d = 42\t\n",
        "class D(C):\n",
        "\tdef __init__(self):\n",
        "\t\t\tself.e = 84\n",
        "\t\t\tC.__init__(self)\n",
        "object1 = D()\n",
        "\n",
        "# produces an error as d is private instance variable\n",
        "print(object1.d)\t\t\t\t\t\n"
      ],
      "execution_count": null,
      "outputs": []
    },
    {
      "cell_type": "markdown",
      "metadata": {
        "id": "PU8IEQN7peUu"
      },
      "source": [
        "Modules"
      ]
    },
    {
      "cell_type": "code",
      "metadata": {
        "id": "YqFDXBLepfHM"
      },
      "source": [
        "# A simple module, calc.py\n",
        "\n",
        "def add(x, y):\n",
        "\treturn (x+y)\n",
        "\n",
        "def subtract(x, y):\n",
        "\treturn (x-y)\n"
      ],
      "execution_count": null,
      "outputs": []
    },
    {
      "cell_type": "code",
      "metadata": {
        "id": "L1tjuYpupg99"
      },
      "source": [
        "# importing module calc.py\n",
        "import calc\n",
        "\n",
        "print(add(10, 2))\n"
      ],
      "execution_count": null,
      "outputs": []
    },
    {
      "cell_type": "code",
      "metadata": {
        "id": "q9T7RDGtplPC"
      },
      "source": [
        "# importing sqrt() and factorial from the\n",
        "# module math\n",
        "from math import sqrt, factorial\n",
        "\n",
        "# if we simply do \"import math\", then\n",
        "# math.sqrt(16) and math.factorial()\n",
        "# are required.\n",
        "print(sqrt(16))\n",
        "print(factorial(6))\n"
      ],
      "execution_count": null,
      "outputs": []
    },
    {
      "cell_type": "code",
      "metadata": {
        "id": "1MUjsUhWpnWn"
      },
      "source": [
        "# Import built-in module random\n",
        "from random import *\n",
        "\n",
        "print(dir(random))\n"
      ],
      "execution_count": null,
      "outputs": []
    },
    {
      "cell_type": "markdown",
      "metadata": {
        "id": "dyZfZH7uqkiz"
      },
      "source": [
        "Packages\n",
        "\n",
        "To tell Python that a particular directory is a package, we create a file named __init__.py inside it and then it is considered as a package and we may create other modules and sub-packages within it. \n",
        "\n",
        "This __init__.py file can be left blank or can be coded with the initialization code for the package.\n",
        "\n",
        "To create a package in Python, we need to follow these three simple steps:\n",
        "\n",
        "First, we create a directory and give it a package name, preferably related to its operation.\n",
        "\n",
        "Then we put the classes and the required functions in it.\n",
        "\n",
        "Finally we create an __init__.py file inside the directory, to let Python know that the directory is a package."
      ]
    },
    {
      "cell_type": "markdown",
      "metadata": {
        "id": "7dar4CWNsYWU"
      },
      "source": [
        "Builtin Modules\n",
        "\n",
        "https://docs.python.org/3/py-modindex.html"
      ]
    },
    {
      "cell_type": "markdown",
      "metadata": {
        "id": "4VMcY2c2sYb5"
      },
      "source": [
        "Random Numbers"
      ]
    },
    {
      "cell_type": "code",
      "metadata": {
        "id": "lNqmNWFrs7Eh"
      },
      "source": [
        "# Python3 program to demonstrate the use of\n",
        "# choice() method\n",
        "\n",
        "# import random\n",
        "import random\n",
        "\n",
        "# prints a random value from the list\n",
        "list1 = [1, 2, 3, 4, 5, 6]\n",
        "print(random.choice(list1))\n",
        "\n",
        "# prints a random item from the string\n",
        "string = \"striver\"\n",
        "print(random.choice(string))\n"
      ],
      "execution_count": null,
      "outputs": []
    },
    {
      "cell_type": "code",
      "metadata": {
        "id": "q83NLZzKs8BG",
        "colab": {
          "base_uri": "https://localhost:8080/"
        },
        "outputId": "1eb2d711-d650-4f14-d970-5dc2099cbeaa"
      },
      "source": [
        "# Python code to demonstrate the working of\n",
        "# choice() and randrange()\n",
        "\n",
        "# importing \"random\" for random operations\n",
        "import random\n",
        "\n",
        "# using choice() to generate a random number from a\n",
        "# given list of numbers.\n",
        "print(\"A random number from list is : \", end=\"\")\n",
        "print(random.choice([1, 4, 8, 10, 3]))\n",
        "\n",
        "# using randrange() to generate in range from 20\n",
        "# to 50. The last parameter 3 is step size to skip\n",
        "# three numbers when selecting.\n",
        "print(\"A random number from range is : \", end=\"\")\n",
        "print(random.randrange(20, 50, 3))\n"
      ],
      "execution_count": null,
      "outputs": [
        {
          "output_type": "stream",
          "text": [
            "A random number from list is : 8\n",
            "A random number from range is : 29\n"
          ],
          "name": "stdout"
        }
      ]
    },
    {
      "cell_type": "code",
      "metadata": {
        "id": "vbYP40jQtD8X",
        "colab": {
          "base_uri": "https://localhost:8080/"
        },
        "outputId": "7aa2626a-5e63-4c37-9f8d-1699ab3dda61"
      },
      "source": [
        "# Python code to demonstrate the working of\n",
        "# random() and seed()\n",
        "\n",
        "# importing \"random\" for random operations\n",
        "import random\n",
        "\n",
        "# using random() to generate a random number\n",
        "# between 0 and 1\n",
        "print(\"A random number between 0 and 1 is : \", end=\"\")\n",
        "print(random.random())\n",
        "\n",
        "# using seed() to seed a random number\n",
        "random.seed(5)\n",
        "\n",
        "# printing mapped random number\n",
        "print(\"The mapped random number with 5 is : \", end=\"\")\n",
        "print(random.random())\n",
        "\n",
        "# using seed() to seed different random number\n",
        "random.seed(7)\n",
        "\n",
        "# printing mapped random number\n",
        "print(\"The mapped random number with 7 is : \", end=\"\")\n",
        "print(random.random())\n",
        "\n",
        "# using seed() to seed to 5 again\n",
        "random.seed(5)\n",
        "\n",
        "# printing mapped random number\n",
        "print(\"The mapped random number with 5 is : \", end=\"\")\n",
        "print(random.random())\n",
        "\n",
        "# using seed() to seed to 7 again\n",
        "random.seed(7)\n",
        "\n",
        "# printing mapped random number\n",
        "print(\"The mapped random number with 7 is : \", end=\"\")\n",
        "print(random.random())\n"
      ],
      "execution_count": null,
      "outputs": [
        {
          "output_type": "stream",
          "text": [
            "A random number between 0 and 1 is : 0.1641869853160539\n",
            "The mapped random number with 5 is : 0.6229016948897019\n",
            "The mapped random number with 7 is : 0.32383276483316237\n",
            "The mapped random number with 5 is : 0.6229016948897019\n",
            "The mapped random number with 7 is : 0.32383276483316237\n"
          ],
          "name": "stdout"
        }
      ]
    },
    {
      "cell_type": "code",
      "metadata": {
        "id": "11jL8NEuuHuc"
      },
      "source": [
        "# import the random module\n",
        "import random\n",
        "\n",
        "\n",
        "# declare a list\n",
        "sample_list = ['A', 'B', 'C', 'D', 'E']\n",
        "\n",
        "print(\"Original list : \")\n",
        "print(sample_list)\n",
        "\n",
        "# first shuffle\n",
        "random.shuffle(sample_list)\n",
        "print(\"\\nAfter the first shuffle : \")\n",
        "print(sample_list)\n",
        "\n",
        "# second shuffle\n",
        "random.shuffle(sample_list)\n",
        "print(\"\\nAfter the second shuffle : \")\n",
        "print(sample_list)\n"
      ],
      "execution_count": null,
      "outputs": []
    },
    {
      "cell_type": "code",
      "metadata": {
        "id": "XvVB10MQuKm0",
        "colab": {
          "base_uri": "https://localhost:8080/",
          "height": 248
        },
        "outputId": "6c14a04a-4ebd-4e29-c37b-d52138a91a9a"
      },
      "source": [
        "# Python code to demonstrate the working of\n",
        "# shuffle() and uniform()\n",
        "\n",
        "# importing \"random\" for random operations\n",
        "import random\n",
        "\n",
        "# Initializing list\n",
        "li = [1, 4, 5, 10, 2]\n",
        "\n",
        "# Printing list before shuffling\n",
        "print(\"The list before shuffling is : \", end=\"\")\n",
        "for i in range(0, len(li)):\n",
        "\tprint(li[i], end=\" \")\n",
        "print(\"\\r\")\n",
        "\n",
        "# using shuffle() to shuffle the list\n",
        "random.shuffle(li)\n",
        "\n",
        "# Printing list after shuffling\n",
        "print(\"The list after shuffling is : \", end=\"\")\n",
        "for i in range(0, len(li)):\n",
        "\tprint(li[i], end=\" \")\n",
        "print(\"\\r\")\n",
        "\n",
        "# using uniform() to generate random floating number in range\n",
        "# prints number between 5 and 10\n",
        "print(\"The random floating point number between 5 and 10 is : \", end=\"\")\n",
        "print(random.uniform(5, 10))\n"
      ],
      "execution_count": null,
      "outputs": [
        {
          "output_type": "stream",
          "text": [
            "The list before shuffling is : 1 4 5 10 2 \r\n",
            "The list after shuffling is : 5 2 4 10 1 \r\n",
            "The random floating point number between 5 and 10 is : 6.203315000635126\n"
          ],
          "name": "stdout"
        },
        {
          "output_type": "error",
          "ename": "TypeError",
          "evalue": "ignored",
          "traceback": [
            "\u001b[0;31m---------------------------------------------------------------------------\u001b[0m",
            "\u001b[0;31mTypeError\u001b[0m                                 Traceback (most recent call last)",
            "\u001b[0;32m<ipython-input-5-dab66ba59a77>\u001b[0m in \u001b[0;36m<module>\u001b[0;34m()\u001b[0m\n\u001b[1;32m     27\u001b[0m \u001b[0mprint\u001b[0m\u001b[0;34m(\u001b[0m\u001b[0;34m\"The random floating point number between 5 and 10 is : \"\u001b[0m\u001b[0;34m,\u001b[0m \u001b[0mend\u001b[0m\u001b[0;34m=\u001b[0m\u001b[0;34m\"\"\u001b[0m\u001b[0;34m)\u001b[0m\u001b[0;34m\u001b[0m\u001b[0;34m\u001b[0m\u001b[0m\n\u001b[1;32m     28\u001b[0m \u001b[0mprint\u001b[0m\u001b[0;34m(\u001b[0m\u001b[0mrandom\u001b[0m\u001b[0;34m.\u001b[0m\u001b[0muniform\u001b[0m\u001b[0;34m(\u001b[0m\u001b[0;36m5\u001b[0m\u001b[0;34m,\u001b[0m \u001b[0;36m10\u001b[0m\u001b[0;34m)\u001b[0m\u001b[0;34m)\u001b[0m\u001b[0;34m\u001b[0m\u001b[0;34m\u001b[0m\u001b[0m\n\u001b[0;32m---> 29\u001b[0;31m \u001b[0mprint\u001b[0m\u001b[0;34m(\u001b[0m\u001b[0mrandom\u001b[0m\u001b[0;34m.\u001b[0m\u001b[0mrandom\u001b[0m\u001b[0;34m(\u001b[0m\u001b[0;36m5\u001b[0m\u001b[0;34m,\u001b[0m\u001b[0;36m10\u001b[0m\u001b[0;34m)\u001b[0m\u001b[0;34m)\u001b[0m\u001b[0;34m\u001b[0m\u001b[0;34m\u001b[0m\u001b[0m\n\u001b[0m",
            "\u001b[0;31mTypeError\u001b[0m: random() takes no arguments (2 given)"
          ]
        }
      ]
    },
    {
      "cell_type": "code",
      "metadata": {
        "id": "yDbQFVHEu5n-"
      },
      "source": [
        "# Python3 program explaining work\n",
        "# of randint() function\n",
        "\n",
        "# imports random module\n",
        "import random\n",
        "\n",
        "# Generates a random number between\n",
        "# a given positive range\n",
        "r1 = random.randint(0, 10)\n",
        "print(\"Random number between 0 and 10 is % s\" % (r1))\n",
        "\n",
        "# Generates a random number between\n",
        "# two given negative range\n",
        "r2 = random.randint(-10, -1)\n",
        "print(\"Random number between -10 and -1 is % d\" % (r2))\n",
        "\n",
        "# Generates a random number between\n",
        "# a positive and a negative range\n",
        "r3 = random.randint(-5, 5)\n",
        "print(\"Random number between -5 and 5 is % d\" % (r3))\n"
      ],
      "execution_count": null,
      "outputs": []
    },
    {
      "cell_type": "code",
      "metadata": {
        "id": "70kaJ1qUu6vD"
      },
      "source": [
        "# imports random module\n",
        "import random\n",
        "\n",
        "'''If we pass floating point values as\n",
        "parameters in the randint() function'''\n",
        "\n",
        "r1 = random.randint(1.23, 9.34)\n",
        "print(r1)\n"
      ],
      "execution_count": null,
      "outputs": []
    },
    {
      "cell_type": "markdown",
      "metadata": {
        "id": "yVgYX4MysP4g"
      },
      "source": [
        "Pathlib module\n",
        "Path classes in Pathlib module are divided into pure paths and concrete paths. Pure paths provides only computational operations but does not provides I/O operations, while concrete paths inherit from pure paths provides computational as well as I/O operations.\n",
        "\n",
        "![image.png](data:image/png;base64,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)"
      ]
    },
    {
      "cell_type": "code",
      "metadata": {
        "id": "jQOdE1pMu9ry",
        "colab": {
          "base_uri": "https://localhost:8080/"
        },
        "outputId": "3e0da04a-4b2a-4f11-e9c1-815f61e3865b"
      },
      "source": [
        "from pathlib import Path\n",
        "#path=Path(\"Test.txt\")\n",
        "#path.mkdir()\n",
        "#path1=Path(\"Test1.txt\")\n",
        "#path1.mkdir()\n",
        "#path1=Path(\"filename\")\n",
        "#print(patj1.exists) # Returns boolean\n",
        "#path1.mkdir() to create new file\n",
        "#path1.rmdir() to delete file\n",
        "#path1.glob(\"*.*\") to iterate all files in currend directory\n",
        "for file in Path().glob(\"*.*\"):\n",
        "    print(file)\n"
      ],
      "execution_count": null,
      "outputs": [
        {
          "output_type": "stream",
          "text": [
            ".config\n",
            "Test1.txt\n",
            "Test.txt\n"
          ],
          "name": "stdout"
        }
      ]
    },
    {
      "cell_type": "markdown",
      "metadata": {
        "id": "KWsap-BI2u3P"
      },
      "source": [
        "Pypi - To get packages\n",
        "\n",
        "https://pypi.org/\n",
        "\n",
        "\n",
        "openpyxl\n",
        "\n"
      ]
    },
    {
      "cell_type": "code",
      "metadata": {
        "colab": {
          "base_uri": "https://localhost:8080/"
        },
        "id": "0WYa5uoR3HHF",
        "outputId": "4f3ffcb0-9f65-4821-f30e-94306a366028"
      },
      "source": [
        "pip install openpyxl"
      ],
      "execution_count": null,
      "outputs": [
        {
          "output_type": "stream",
          "text": [
            "Requirement already satisfied: openpyxl in /usr/local/lib/python3.7/dist-packages (2.5.9)\n",
            "Requirement already satisfied: jdcal in /usr/local/lib/python3.7/dist-packages (from openpyxl) (1.4.1)\n",
            "Requirement already satisfied: et-xmlfile in /usr/local/lib/python3.7/dist-packages (from openpyxl) (1.1.0)\n"
          ],
          "name": "stdout"
        }
      ]
    },
    {
      "cell_type": "code",
      "metadata": {
        "colab": {
          "base_uri": "https://localhost:8080/"
        },
        "id": "L20JDg9g6G6C",
        "outputId": "1ee878c6-bd92-4dca-a194-a8b7b6d73a91"
      },
      "source": [
        "import openpyxl as xl\n",
        "wb = xl.load_workbook(\"transactions.xlsx\")\n",
        "sheet=wb['Sheet1']\n",
        "cell = sheet[\"a1\"] # Same -> cell = sheet.cell(1 , 1) ---- row number, col number\n",
        "print(cell.value)\n"
      ],
      "execution_count": null,
      "outputs": [
        {
          "output_type": "stream",
          "text": [
            "transaction_id\n"
          ],
          "name": "stdout"
        }
      ]
    },
    {
      "cell_type": "code",
      "metadata": {
        "colab": {
          "base_uri": "https://localhost:8080/"
        },
        "id": "mVIpIszp7Z9n",
        "outputId": "a678bb87-6c51-4ab6-de79-e7493a938a69"
      },
      "source": [
        "print(sheet.max_row) # prints no of rows in the sheet"
      ],
      "execution_count": null,
      "outputs": [
        {
          "output_type": "stream",
          "text": [
            "4\n"
          ],
          "name": "stdout"
        }
      ]
    },
    {
      "cell_type": "code",
      "metadata": {
        "colab": {
          "base_uri": "https://localhost:8080/"
        },
        "id": "UdQZUBw27hPw",
        "outputId": "de9ac59c-0fe4-495d-a4cf-f9867bb3fa02"
      },
      "source": [
        "for row in range(2, sheet.max_row + 1):\n",
        "    cell = sheet.cell(row, 3)\n",
        "    print(cell.value)\n"
      ],
      "execution_count": null,
      "outputs": [
        {
          "output_type": "stream",
          "text": [
            "6\n",
            "7\n",
            "8\n"
          ],
          "name": "stdout"
        }
      ]
    },
    {
      "cell_type": "code",
      "metadata": {
        "id": "KnDWAZ_Q8gFd"
      },
      "source": [
        "for row in range(2, sheet.max_row + 1):\n",
        "    cell = sheet.cell(row, 3)\n",
        "    corrected_price = cell.value * 0.9\n",
        "    corrected_price_cell = sheet.cell(row, 4)\n",
        "    corrected_price_cell.value = corrected_price\n",
        "\n",
        "wb.save(\"transactions1.xlsx\")"
      ],
      "execution_count": null,
      "outputs": []
    },
    {
      "cell_type": "code",
      "metadata": {
        "id": "ylgEafE39xV4"
      },
      "source": [
        "from openpyxl.chart import BarChart, Reference\n",
        "\n",
        "wb = xl.load_workbook(\"transactions1.xlsx\")\n",
        "sheet=wb['Sheet1']\n",
        "\n",
        "values = Reference(sheet, min_row = 2, max_row = sheet.max_row, min_col = 4, max_col = 4)\n",
        "\n",
        "chart = BarChart()\n",
        "chart.add_data(values)\n",
        "sheet.add_chart(chart, \"e2\")\n",
        "\n",
        "wb.save(\"transactions2.xlsx\")\n",
        "\n",
        "\n",
        "# using path we can get all file names, we can pass those in a loop and process many sheets"
      ],
      "execution_count": null,
      "outputs": []
    }
  ]
}